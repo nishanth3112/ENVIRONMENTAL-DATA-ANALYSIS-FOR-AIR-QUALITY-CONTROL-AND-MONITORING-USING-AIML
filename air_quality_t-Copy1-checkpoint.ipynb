{
 "cells": [
  {
   "cell_type": "markdown",
   "metadata": {
    "id": "view-in-github"
   },
   "source": [
    "<a href=\"https://colab.research.google.com/github/ndk03/Air-Quality-Prediction/blob/master/air_quality_t.ipynb\" target=\"_parent\"><img src=\"https://colab.research.google.com/assets/colab-badge.svg\" alt=\"Open In Colab\"/></a>"
   ]
  },
  {
   "cell_type": "code",
   "execution_count": 1,
   "metadata": {
    "colab": {
     "base_uri": "https://localhost:8080/"
    },
    "executionInfo": {
     "elapsed": 25245,
     "status": "ok",
     "timestamp": 1704180123637,
     "user": {
      "displayName": "pantech e learning",
      "userId": "02085171050783995221"
     },
     "user_tz": -330
    },
    "id": "XQ-1hQyhfBpV",
    "outputId": "ceb67eab-c632-403d-807e-32cb3c4d81d0"
   },
   "outputs": [
    {
     "name": "stdout",
     "output_type": "stream",
     "text": [
      "Requirement already satisfied: matplotlib in c:\\users\\vigne\\anaconda3\\lib\\site-packages (3.7.2)\n",
      "Requirement already satisfied: contourpy>=1.0.1 in c:\\users\\vigne\\anaconda3\\lib\\site-packages (from matplotlib) (1.0.5)\n",
      "Requirement already satisfied: cycler>=0.10 in c:\\users\\vigne\\anaconda3\\lib\\site-packages (from matplotlib) (0.11.0)\n",
      "Requirement already satisfied: fonttools>=4.22.0 in c:\\users\\vigne\\anaconda3\\lib\\site-packages (from matplotlib) (4.25.0)\n",
      "Requirement already satisfied: kiwisolver>=1.0.1 in c:\\users\\vigne\\anaconda3\\lib\\site-packages (from matplotlib) (1.4.4)\n",
      "Requirement already satisfied: numpy>=1.20 in c:\\users\\vigne\\anaconda3\\lib\\site-packages (from matplotlib) (1.24.3)\n",
      "Requirement already satisfied: packaging>=20.0 in c:\\users\\vigne\\anaconda3\\lib\\site-packages (from matplotlib) (23.1)\n",
      "Requirement already satisfied: pillow>=6.2.0 in c:\\users\\vigne\\anaconda3\\lib\\site-packages (from matplotlib) (9.4.0)\n",
      "Requirement already satisfied: pyparsing<3.1,>=2.3.1 in c:\\users\\vigne\\anaconda3\\lib\\site-packages (from matplotlib) (3.0.9)\n",
      "Requirement already satisfied: python-dateutil>=2.7 in c:\\users\\vigne\\anaconda3\\lib\\site-packages (from matplotlib) (2.8.2)\n",
      "Requirement already satisfied: six>=1.5 in c:\\users\\vigne\\anaconda3\\lib\\site-packages (from python-dateutil>=2.7->matplotlib) (1.16.0)\n"
     ]
    }
   ],
   "source": [
    "!pip install matplotlib"
   ]
  },
  {
   "cell_type": "code",
   "execution_count": 2,
   "metadata": {
    "executionInfo": {
     "elapsed": 8077,
     "status": "ok",
     "timestamp": 1704180131710,
     "user": {
      "displayName": "pantech e learning",
      "userId": "02085171050783995221"
     },
     "user_tz": -330
    },
    "id": "jLERY6mWUGyi"
   },
   "outputs": [
    {
     "name": "stdout",
     "output_type": "stream",
     "text": [
      "WARNING:tensorflow:From C:\\Users\\vigne\\anaconda3\\Lib\\site-packages\\keras\\src\\losses.py:2976: The name tf.losses.sparse_softmax_cross_entropy is deprecated. Please use tf.compat.v1.losses.sparse_softmax_cross_entropy instead.\n",
      "\n"
     ]
    }
   ],
   "source": [
    "import pandas as pd\n",
    "import numpy as np\n",
    "import matplotlib.pyplot as plt\n",
    "%matplotlib inline\n",
    "import seaborn as snc\n",
    "import tensorflow as tf\n",
    "from tensorflow.python.keras.models import Sequential\n",
    "from tensorflow.python.keras.layers import Dense\n",
    "#from tensorflow.python.keras.wrappers.scikit_learn import KerasRegressor\n",
    "from tensorflow.keras.applications import resnet\n",
    "from sklearn.model_selection import KFold\n",
    "from sklearn.model_selection import cross_val_score\n",
    "from tensorflow.python.keras.layers.core import Dense, Activation"
   ]
  },
  {
   "cell_type": "code",
   "execution_count": 3,
   "metadata": {
    "colab": {
     "base_uri": "https://localhost:8080/",
     "height": 321
    },
    "executionInfo": {
     "elapsed": 1223,
     "status": "error",
     "timestamp": 1704180132929,
     "user": {
      "displayName": "pantech e learning",
      "userId": "02085171050783995221"
     },
     "user_tz": -330
    },
    "id": "3o7fUpSvUGys",
    "outputId": "6ec9b6cb-dece-454f-ffa4-968e77237496"
   },
   "outputs": [],
   "source": [
    "air_quality = pd.read_csv(\"AirQualityUCI.csv\", sep=\";\", decimal=\",\")"
   ]
  },
  {
   "cell_type": "code",
   "execution_count": 4,
   "metadata": {
    "executionInfo": {
     "elapsed": 10,
     "status": "aborted",
     "timestamp": 1704180132929,
     "user": {
      "displayName": "pantech e learning",
      "userId": "02085171050783995221"
     },
     "user_tz": -330
    },
    "id": "t1SeKcSgUGyx"
   },
   "outputs": [],
   "source": [
    "air_quality.dropna(axis=0, how= 'all', inplace=True)\n",
    "air_quality.dropna(axis=1, inplace=True)"
   ]
  },
  {
   "cell_type": "code",
   "execution_count": 5,
   "metadata": {
    "executionInfo": {
     "elapsed": 10,
     "status": "aborted",
     "timestamp": 1704180132929,
     "user": {
      "displayName": "pantech e learning",
      "userId": "02085171050783995221"
     },
     "user_tz": -330
    },
    "id": "VB4uXK09UGy3",
    "scrolled": true
   },
   "outputs": [
    {
     "data": {
      "text/html": [
       "<div>\n",
       "<style scoped>\n",
       "    .dataframe tbody tr th:only-of-type {\n",
       "        vertical-align: middle;\n",
       "    }\n",
       "\n",
       "    .dataframe tbody tr th {\n",
       "        vertical-align: top;\n",
       "    }\n",
       "\n",
       "    .dataframe thead th {\n",
       "        text-align: right;\n",
       "    }\n",
       "</style>\n",
       "<table border=\"1\" class=\"dataframe\">\n",
       "  <thead>\n",
       "    <tr style=\"text-align: right;\">\n",
       "      <th></th>\n",
       "      <th>Date</th>\n",
       "      <th>Time</th>\n",
       "      <th>CO(GT)</th>\n",
       "      <th>PT08.S1(CO)</th>\n",
       "      <th>NMHC(GT)</th>\n",
       "      <th>C6H6(GT)</th>\n",
       "      <th>PT08.S2(NMHC)</th>\n",
       "      <th>NOx(GT)</th>\n",
       "      <th>PT08.S3(NOx)</th>\n",
       "      <th>NO2(GT)</th>\n",
       "      <th>PT08.S4(NO2)</th>\n",
       "      <th>PT08.S5(O3)</th>\n",
       "      <th>T</th>\n",
       "      <th>RH</th>\n",
       "      <th>AH</th>\n",
       "    </tr>\n",
       "  </thead>\n",
       "  <tbody>\n",
       "    <tr>\n",
       "      <th>0</th>\n",
       "      <td>10/03/2004</td>\n",
       "      <td>18.00.00</td>\n",
       "      <td>2.6</td>\n",
       "      <td>1360.0</td>\n",
       "      <td>150.0</td>\n",
       "      <td>11.9</td>\n",
       "      <td>1046.0</td>\n",
       "      <td>166.0</td>\n",
       "      <td>1056.0</td>\n",
       "      <td>113.0</td>\n",
       "      <td>1692.0</td>\n",
       "      <td>1268.0</td>\n",
       "      <td>13.6</td>\n",
       "      <td>48.9</td>\n",
       "      <td>0.7578</td>\n",
       "    </tr>\n",
       "    <tr>\n",
       "      <th>1</th>\n",
       "      <td>10/03/2004</td>\n",
       "      <td>19.00.00</td>\n",
       "      <td>2.0</td>\n",
       "      <td>1292.0</td>\n",
       "      <td>112.0</td>\n",
       "      <td>9.4</td>\n",
       "      <td>955.0</td>\n",
       "      <td>103.0</td>\n",
       "      <td>1174.0</td>\n",
       "      <td>92.0</td>\n",
       "      <td>1559.0</td>\n",
       "      <td>972.0</td>\n",
       "      <td>13.3</td>\n",
       "      <td>47.7</td>\n",
       "      <td>0.7255</td>\n",
       "    </tr>\n",
       "    <tr>\n",
       "      <th>2</th>\n",
       "      <td>10/03/2004</td>\n",
       "      <td>20.00.00</td>\n",
       "      <td>2.2</td>\n",
       "      <td>1402.0</td>\n",
       "      <td>88.0</td>\n",
       "      <td>9.0</td>\n",
       "      <td>939.0</td>\n",
       "      <td>131.0</td>\n",
       "      <td>1140.0</td>\n",
       "      <td>114.0</td>\n",
       "      <td>1555.0</td>\n",
       "      <td>1074.0</td>\n",
       "      <td>11.9</td>\n",
       "      <td>54.0</td>\n",
       "      <td>0.7502</td>\n",
       "    </tr>\n",
       "    <tr>\n",
       "      <th>3</th>\n",
       "      <td>10/03/2004</td>\n",
       "      <td>21.00.00</td>\n",
       "      <td>2.2</td>\n",
       "      <td>1376.0</td>\n",
       "      <td>80.0</td>\n",
       "      <td>9.2</td>\n",
       "      <td>948.0</td>\n",
       "      <td>172.0</td>\n",
       "      <td>1092.0</td>\n",
       "      <td>122.0</td>\n",
       "      <td>1584.0</td>\n",
       "      <td>1203.0</td>\n",
       "      <td>11.0</td>\n",
       "      <td>60.0</td>\n",
       "      <td>0.7867</td>\n",
       "    </tr>\n",
       "    <tr>\n",
       "      <th>4</th>\n",
       "      <td>10/03/2004</td>\n",
       "      <td>22.00.00</td>\n",
       "      <td>1.6</td>\n",
       "      <td>1272.0</td>\n",
       "      <td>51.0</td>\n",
       "      <td>6.5</td>\n",
       "      <td>836.0</td>\n",
       "      <td>131.0</td>\n",
       "      <td>1205.0</td>\n",
       "      <td>116.0</td>\n",
       "      <td>1490.0</td>\n",
       "      <td>1110.0</td>\n",
       "      <td>11.2</td>\n",
       "      <td>59.6</td>\n",
       "      <td>0.7888</td>\n",
       "    </tr>\n",
       "    <tr>\n",
       "      <th>...</th>\n",
       "      <td>...</td>\n",
       "      <td>...</td>\n",
       "      <td>...</td>\n",
       "      <td>...</td>\n",
       "      <td>...</td>\n",
       "      <td>...</td>\n",
       "      <td>...</td>\n",
       "      <td>...</td>\n",
       "      <td>...</td>\n",
       "      <td>...</td>\n",
       "      <td>...</td>\n",
       "      <td>...</td>\n",
       "      <td>...</td>\n",
       "      <td>...</td>\n",
       "      <td>...</td>\n",
       "    </tr>\n",
       "    <tr>\n",
       "      <th>9352</th>\n",
       "      <td>04/04/2005</td>\n",
       "      <td>10.00.00</td>\n",
       "      <td>3.1</td>\n",
       "      <td>1314.0</td>\n",
       "      <td>NaN</td>\n",
       "      <td>13.5</td>\n",
       "      <td>1101.0</td>\n",
       "      <td>472.0</td>\n",
       "      <td>539.0</td>\n",
       "      <td>190.0</td>\n",
       "      <td>1374.0</td>\n",
       "      <td>1729.0</td>\n",
       "      <td>21.9</td>\n",
       "      <td>29.3</td>\n",
       "      <td>0.7568</td>\n",
       "    </tr>\n",
       "    <tr>\n",
       "      <th>9353</th>\n",
       "      <td>04/04/2005</td>\n",
       "      <td>11.00.00</td>\n",
       "      <td>2.4</td>\n",
       "      <td>1163.0</td>\n",
       "      <td>NaN</td>\n",
       "      <td>11.4</td>\n",
       "      <td>1027.0</td>\n",
       "      <td>353.0</td>\n",
       "      <td>604.0</td>\n",
       "      <td>179.0</td>\n",
       "      <td>1264.0</td>\n",
       "      <td>1269.0</td>\n",
       "      <td>24.3</td>\n",
       "      <td>23.7</td>\n",
       "      <td>0.7119</td>\n",
       "    </tr>\n",
       "    <tr>\n",
       "      <th>9354</th>\n",
       "      <td>04/04/2005</td>\n",
       "      <td>12.00.00</td>\n",
       "      <td>2.4</td>\n",
       "      <td>1142.0</td>\n",
       "      <td>NaN</td>\n",
       "      <td>12.4</td>\n",
       "      <td>1063.0</td>\n",
       "      <td>293.0</td>\n",
       "      <td>603.0</td>\n",
       "      <td>175.0</td>\n",
       "      <td>1241.0</td>\n",
       "      <td>1092.0</td>\n",
       "      <td>26.9</td>\n",
       "      <td>18.3</td>\n",
       "      <td>0.6406</td>\n",
       "    </tr>\n",
       "    <tr>\n",
       "      <th>9355</th>\n",
       "      <td>04/04/2005</td>\n",
       "      <td>13.00.00</td>\n",
       "      <td>2.1</td>\n",
       "      <td>1003.0</td>\n",
       "      <td>NaN</td>\n",
       "      <td>9.5</td>\n",
       "      <td>961.0</td>\n",
       "      <td>235.0</td>\n",
       "      <td>702.0</td>\n",
       "      <td>156.0</td>\n",
       "      <td>1041.0</td>\n",
       "      <td>770.0</td>\n",
       "      <td>28.3</td>\n",
       "      <td>13.5</td>\n",
       "      <td>0.5139</td>\n",
       "    </tr>\n",
       "    <tr>\n",
       "      <th>9356</th>\n",
       "      <td>04/04/2005</td>\n",
       "      <td>14.00.00</td>\n",
       "      <td>2.2</td>\n",
       "      <td>1071.0</td>\n",
       "      <td>NaN</td>\n",
       "      <td>11.9</td>\n",
       "      <td>1047.0</td>\n",
       "      <td>265.0</td>\n",
       "      <td>654.0</td>\n",
       "      <td>168.0</td>\n",
       "      <td>1129.0</td>\n",
       "      <td>816.0</td>\n",
       "      <td>28.5</td>\n",
       "      <td>13.1</td>\n",
       "      <td>0.5028</td>\n",
       "    </tr>\n",
       "  </tbody>\n",
       "</table>\n",
       "<p>9357 rows × 15 columns</p>\n",
       "</div>"
      ],
      "text/plain": [
       "            Date      Time  CO(GT)  PT08.S1(CO)  NMHC(GT)  C6H6(GT)  \\\n",
       "0     10/03/2004  18.00.00     2.6       1360.0     150.0      11.9   \n",
       "1     10/03/2004  19.00.00     2.0       1292.0     112.0       9.4   \n",
       "2     10/03/2004  20.00.00     2.2       1402.0      88.0       9.0   \n",
       "3     10/03/2004  21.00.00     2.2       1376.0      80.0       9.2   \n",
       "4     10/03/2004  22.00.00     1.6       1272.0      51.0       6.5   \n",
       "...          ...       ...     ...          ...       ...       ...   \n",
       "9352  04/04/2005  10.00.00     3.1       1314.0       NaN      13.5   \n",
       "9353  04/04/2005  11.00.00     2.4       1163.0       NaN      11.4   \n",
       "9354  04/04/2005  12.00.00     2.4       1142.0       NaN      12.4   \n",
       "9355  04/04/2005  13.00.00     2.1       1003.0       NaN       9.5   \n",
       "9356  04/04/2005  14.00.00     2.2       1071.0       NaN      11.9   \n",
       "\n",
       "      PT08.S2(NMHC)  NOx(GT)  PT08.S3(NOx)  NO2(GT)  PT08.S4(NO2)  \\\n",
       "0            1046.0    166.0        1056.0    113.0        1692.0   \n",
       "1             955.0    103.0        1174.0     92.0        1559.0   \n",
       "2             939.0    131.0        1140.0    114.0        1555.0   \n",
       "3             948.0    172.0        1092.0    122.0        1584.0   \n",
       "4             836.0    131.0        1205.0    116.0        1490.0   \n",
       "...             ...      ...           ...      ...           ...   \n",
       "9352         1101.0    472.0         539.0    190.0        1374.0   \n",
       "9353         1027.0    353.0         604.0    179.0        1264.0   \n",
       "9354         1063.0    293.0         603.0    175.0        1241.0   \n",
       "9355          961.0    235.0         702.0    156.0        1041.0   \n",
       "9356         1047.0    265.0         654.0    168.0        1129.0   \n",
       "\n",
       "      PT08.S5(O3)     T    RH      AH  \n",
       "0          1268.0  13.6  48.9  0.7578  \n",
       "1           972.0  13.3  47.7  0.7255  \n",
       "2          1074.0  11.9  54.0  0.7502  \n",
       "3          1203.0  11.0  60.0  0.7867  \n",
       "4          1110.0  11.2  59.6  0.7888  \n",
       "...           ...   ...   ...     ...  \n",
       "9352       1729.0  21.9  29.3  0.7568  \n",
       "9353       1269.0  24.3  23.7  0.7119  \n",
       "9354       1092.0  26.9  18.3  0.6406  \n",
       "9355        770.0  28.3  13.5  0.5139  \n",
       "9356        816.0  28.5  13.1  0.5028  \n",
       "\n",
       "[9357 rows x 15 columns]"
      ]
     },
     "execution_count": 5,
     "metadata": {},
     "output_type": "execute_result"
    }
   ],
   "source": [
    "air_quality.replace(to_replace= -200, value= np.NaN, inplace= True)\n",
    "air_quality"
   ]
  },
  {
   "cell_type": "code",
   "execution_count": 6,
   "metadata": {
    "executionInfo": {
     "elapsed": 10,
     "status": "aborted",
     "timestamp": 1704180132929,
     "user": {
      "displayName": "pantech e learning",
      "userId": "02085171050783995221"
     },
     "user_tz": -330
    },
    "id": "gpdIq1PgUGzA"
   },
   "outputs": [],
   "source": [
    "# Convert the entire DataFrame to numeric, excluding non-convertible values\n",
    "air_quality = air_quality.apply(pd.to_numeric, errors='coerce')\n",
    "\n",
    "# Fill NaN values with the mean\n",
    "air_quality.fillna(air_quality.mean(), inplace=True)\n",
    "\n"
   ]
  },
  {
   "cell_type": "code",
   "execution_count": 7,
   "metadata": {
    "executionInfo": {
     "elapsed": 11,
     "status": "aborted",
     "timestamp": 1704180132930,
     "user": {
      "displayName": "pantech e learning",
      "userId": "02085171050783995221"
     },
     "user_tz": -330
    },
    "id": "rqfH-rILUGzF"
   },
   "outputs": [
    {
     "data": {
      "text/html": [
       "<div>\n",
       "<style scoped>\n",
       "    .dataframe tbody tr th:only-of-type {\n",
       "        vertical-align: middle;\n",
       "    }\n",
       "\n",
       "    .dataframe tbody tr th {\n",
       "        vertical-align: top;\n",
       "    }\n",
       "\n",
       "    .dataframe thead th {\n",
       "        text-align: right;\n",
       "    }\n",
       "</style>\n",
       "<table border=\"1\" class=\"dataframe\">\n",
       "  <thead>\n",
       "    <tr style=\"text-align: right;\">\n",
       "      <th></th>\n",
       "      <th>Date</th>\n",
       "      <th>Time</th>\n",
       "      <th>CO(GT)</th>\n",
       "      <th>PT08.S1(CO)</th>\n",
       "      <th>NMHC(GT)</th>\n",
       "      <th>C6H6(GT)</th>\n",
       "      <th>PT08.S2(NMHC)</th>\n",
       "      <th>NOx(GT)</th>\n",
       "      <th>PT08.S3(NOx)</th>\n",
       "      <th>NO2(GT)</th>\n",
       "      <th>PT08.S4(NO2)</th>\n",
       "      <th>PT08.S5(O3)</th>\n",
       "      <th>T</th>\n",
       "      <th>RH</th>\n",
       "      <th>AH</th>\n",
       "    </tr>\n",
       "  </thead>\n",
       "  <tbody>\n",
       "    <tr>\n",
       "      <th>0</th>\n",
       "      <td>NaN</td>\n",
       "      <td>NaN</td>\n",
       "      <td>2.6</td>\n",
       "      <td>1360.0</td>\n",
       "      <td>150.0</td>\n",
       "      <td>11.9</td>\n",
       "      <td>1046.0</td>\n",
       "      <td>166.0</td>\n",
       "      <td>1056.0</td>\n",
       "      <td>113.0</td>\n",
       "      <td>1692.0</td>\n",
       "      <td>1268.0</td>\n",
       "      <td>13.6</td>\n",
       "      <td>48.9</td>\n",
       "      <td>0.7578</td>\n",
       "    </tr>\n",
       "    <tr>\n",
       "      <th>1</th>\n",
       "      <td>NaN</td>\n",
       "      <td>NaN</td>\n",
       "      <td>2.0</td>\n",
       "      <td>1292.0</td>\n",
       "      <td>112.0</td>\n",
       "      <td>9.4</td>\n",
       "      <td>955.0</td>\n",
       "      <td>103.0</td>\n",
       "      <td>1174.0</td>\n",
       "      <td>92.0</td>\n",
       "      <td>1559.0</td>\n",
       "      <td>972.0</td>\n",
       "      <td>13.3</td>\n",
       "      <td>47.7</td>\n",
       "      <td>0.7255</td>\n",
       "    </tr>\n",
       "    <tr>\n",
       "      <th>2</th>\n",
       "      <td>NaN</td>\n",
       "      <td>NaN</td>\n",
       "      <td>2.2</td>\n",
       "      <td>1402.0</td>\n",
       "      <td>88.0</td>\n",
       "      <td>9.0</td>\n",
       "      <td>939.0</td>\n",
       "      <td>131.0</td>\n",
       "      <td>1140.0</td>\n",
       "      <td>114.0</td>\n",
       "      <td>1555.0</td>\n",
       "      <td>1074.0</td>\n",
       "      <td>11.9</td>\n",
       "      <td>54.0</td>\n",
       "      <td>0.7502</td>\n",
       "    </tr>\n",
       "    <tr>\n",
       "      <th>3</th>\n",
       "      <td>NaN</td>\n",
       "      <td>NaN</td>\n",
       "      <td>2.2</td>\n",
       "      <td>1376.0</td>\n",
       "      <td>80.0</td>\n",
       "      <td>9.2</td>\n",
       "      <td>948.0</td>\n",
       "      <td>172.0</td>\n",
       "      <td>1092.0</td>\n",
       "      <td>122.0</td>\n",
       "      <td>1584.0</td>\n",
       "      <td>1203.0</td>\n",
       "      <td>11.0</td>\n",
       "      <td>60.0</td>\n",
       "      <td>0.7867</td>\n",
       "    </tr>\n",
       "    <tr>\n",
       "      <th>4</th>\n",
       "      <td>NaN</td>\n",
       "      <td>NaN</td>\n",
       "      <td>1.6</td>\n",
       "      <td>1272.0</td>\n",
       "      <td>51.0</td>\n",
       "      <td>6.5</td>\n",
       "      <td>836.0</td>\n",
       "      <td>131.0</td>\n",
       "      <td>1205.0</td>\n",
       "      <td>116.0</td>\n",
       "      <td>1490.0</td>\n",
       "      <td>1110.0</td>\n",
       "      <td>11.2</td>\n",
       "      <td>59.6</td>\n",
       "      <td>0.7888</td>\n",
       "    </tr>\n",
       "  </tbody>\n",
       "</table>\n",
       "</div>"
      ],
      "text/plain": [
       "   Date  Time  CO(GT)  PT08.S1(CO)  NMHC(GT)  C6H6(GT)  PT08.S2(NMHC)  \\\n",
       "0   NaN   NaN     2.6       1360.0     150.0      11.9         1046.0   \n",
       "1   NaN   NaN     2.0       1292.0     112.0       9.4          955.0   \n",
       "2   NaN   NaN     2.2       1402.0      88.0       9.0          939.0   \n",
       "3   NaN   NaN     2.2       1376.0      80.0       9.2          948.0   \n",
       "4   NaN   NaN     1.6       1272.0      51.0       6.5          836.0   \n",
       "\n",
       "   NOx(GT)  PT08.S3(NOx)  NO2(GT)  PT08.S4(NO2)  PT08.S5(O3)     T    RH  \\\n",
       "0    166.0        1056.0    113.0        1692.0       1268.0  13.6  48.9   \n",
       "1    103.0        1174.0     92.0        1559.0        972.0  13.3  47.7   \n",
       "2    131.0        1140.0    114.0        1555.0       1074.0  11.9  54.0   \n",
       "3    172.0        1092.0    122.0        1584.0       1203.0  11.0  60.0   \n",
       "4    131.0        1205.0    116.0        1490.0       1110.0  11.2  59.6   \n",
       "\n",
       "       AH  \n",
       "0  0.7578  \n",
       "1  0.7255  \n",
       "2  0.7502  \n",
       "3  0.7867  \n",
       "4  0.7888  "
      ]
     },
     "execution_count": 7,
     "metadata": {},
     "output_type": "execute_result"
    }
   ],
   "source": [
    "air_quality.loc[:,'Date']=air_quality['Date']\n",
    "air_quality.head()"
   ]
  },
  {
   "cell_type": "code",
   "execution_count": 8,
   "metadata": {
    "executionInfo": {
     "elapsed": 11,
     "status": "aborted",
     "timestamp": 1704180132930,
     "user": {
      "displayName": "pantech e learning",
      "userId": "02085171050783995221"
     },
     "user_tz": -330
    },
    "id": "12YrXXbmUGzL"
   },
   "outputs": [
    {
     "name": "stdout",
     "output_type": "stream",
     "text": [
      "Date                    float64\n",
      "Time             datetime64[ns]\n",
      "CO(GT)                  float64\n",
      "PT08.S1(CO)             float64\n",
      "NMHC(GT)                float64\n",
      "C6H6(GT)                float64\n",
      "PT08.S2(NMHC)           float64\n",
      "NOx(GT)                 float64\n",
      "PT08.S3(NOx)            float64\n",
      "NO2(GT)                 float64\n",
      "PT08.S4(NO2)            float64\n",
      "PT08.S5(O3)             float64\n",
      "T                       float64\n",
      "RH                      float64\n",
      "AH                      float64\n",
      "dtype: object\n"
     ]
    }
   ],
   "source": [
    "import pandas as pd\n",
    "from datetime import datetime\n",
    "\n",
    "# Assuming air_quality is your DataFrame and 'Time' is the column causing the error\n",
    "# Convert 'Time' column to datetime objects using pd.to_datetime\n",
    "air_quality['Time'] = pd.to_datetime(air_quality['Time'], errors='coerce')\n",
    "\n",
    "# Display data types after conversion\n",
    "print(air_quality.dtypes)\n",
    "\n"
   ]
  },
  {
   "cell_type": "code",
   "execution_count": 9,
   "metadata": {
    "executionInfo": {
     "elapsed": 11,
     "status": "aborted",
     "timestamp": 1704180132930,
     "user": {
      "displayName": "pantech e learning",
      "userId": "02085171050783995221"
     },
     "user_tz": -330
    },
    "id": "Mnna4n8MUGzS"
   },
   "outputs": [
    {
     "data": {
      "text/html": [
       "<div>\n",
       "<style scoped>\n",
       "    .dataframe tbody tr th:only-of-type {\n",
       "        vertical-align: middle;\n",
       "    }\n",
       "\n",
       "    .dataframe tbody tr th {\n",
       "        vertical-align: top;\n",
       "    }\n",
       "\n",
       "    .dataframe thead th {\n",
       "        text-align: right;\n",
       "    }\n",
       "</style>\n",
       "<table border=\"1\" class=\"dataframe\">\n",
       "  <thead>\n",
       "    <tr style=\"text-align: right;\">\n",
       "      <th></th>\n",
       "      <th>Date</th>\n",
       "      <th>Time</th>\n",
       "      <th>CO(GT)</th>\n",
       "      <th>PT08.S1(CO)</th>\n",
       "      <th>NMHC(GT)</th>\n",
       "      <th>C6H6(GT)</th>\n",
       "      <th>PT08.S2(NMHC)</th>\n",
       "      <th>NOx(GT)</th>\n",
       "      <th>PT08.S3(NOx)</th>\n",
       "      <th>NO2(GT)</th>\n",
       "      <th>PT08.S4(NO2)</th>\n",
       "      <th>PT08.S5(O3)</th>\n",
       "      <th>T</th>\n",
       "      <th>RH</th>\n",
       "      <th>AH</th>\n",
       "    </tr>\n",
       "  </thead>\n",
       "  <tbody>\n",
       "    <tr>\n",
       "      <th>0</th>\n",
       "      <td>NaN</td>\n",
       "      <td>NaT</td>\n",
       "      <td>2.6</td>\n",
       "      <td>1360.0</td>\n",
       "      <td>150.000000</td>\n",
       "      <td>11.9</td>\n",
       "      <td>1046.0</td>\n",
       "      <td>166.0</td>\n",
       "      <td>1056.0</td>\n",
       "      <td>113.0</td>\n",
       "      <td>1692.0</td>\n",
       "      <td>1268.0</td>\n",
       "      <td>13.6</td>\n",
       "      <td>48.9</td>\n",
       "      <td>0.7578</td>\n",
       "    </tr>\n",
       "    <tr>\n",
       "      <th>1</th>\n",
       "      <td>NaN</td>\n",
       "      <td>NaT</td>\n",
       "      <td>2.0</td>\n",
       "      <td>1292.0</td>\n",
       "      <td>112.000000</td>\n",
       "      <td>9.4</td>\n",
       "      <td>955.0</td>\n",
       "      <td>103.0</td>\n",
       "      <td>1174.0</td>\n",
       "      <td>92.0</td>\n",
       "      <td>1559.0</td>\n",
       "      <td>972.0</td>\n",
       "      <td>13.3</td>\n",
       "      <td>47.7</td>\n",
       "      <td>0.7255</td>\n",
       "    </tr>\n",
       "    <tr>\n",
       "      <th>2</th>\n",
       "      <td>NaN</td>\n",
       "      <td>NaT</td>\n",
       "      <td>2.2</td>\n",
       "      <td>1402.0</td>\n",
       "      <td>88.000000</td>\n",
       "      <td>9.0</td>\n",
       "      <td>939.0</td>\n",
       "      <td>131.0</td>\n",
       "      <td>1140.0</td>\n",
       "      <td>114.0</td>\n",
       "      <td>1555.0</td>\n",
       "      <td>1074.0</td>\n",
       "      <td>11.9</td>\n",
       "      <td>54.0</td>\n",
       "      <td>0.7502</td>\n",
       "    </tr>\n",
       "    <tr>\n",
       "      <th>3</th>\n",
       "      <td>NaN</td>\n",
       "      <td>NaT</td>\n",
       "      <td>2.2</td>\n",
       "      <td>1376.0</td>\n",
       "      <td>80.000000</td>\n",
       "      <td>9.2</td>\n",
       "      <td>948.0</td>\n",
       "      <td>172.0</td>\n",
       "      <td>1092.0</td>\n",
       "      <td>122.0</td>\n",
       "      <td>1584.0</td>\n",
       "      <td>1203.0</td>\n",
       "      <td>11.0</td>\n",
       "      <td>60.0</td>\n",
       "      <td>0.7867</td>\n",
       "    </tr>\n",
       "    <tr>\n",
       "      <th>4</th>\n",
       "      <td>NaN</td>\n",
       "      <td>NaT</td>\n",
       "      <td>1.6</td>\n",
       "      <td>1272.0</td>\n",
       "      <td>51.000000</td>\n",
       "      <td>6.5</td>\n",
       "      <td>836.0</td>\n",
       "      <td>131.0</td>\n",
       "      <td>1205.0</td>\n",
       "      <td>116.0</td>\n",
       "      <td>1490.0</td>\n",
       "      <td>1110.0</td>\n",
       "      <td>11.2</td>\n",
       "      <td>59.6</td>\n",
       "      <td>0.7888</td>\n",
       "    </tr>\n",
       "    <tr>\n",
       "      <th>...</th>\n",
       "      <td>...</td>\n",
       "      <td>...</td>\n",
       "      <td>...</td>\n",
       "      <td>...</td>\n",
       "      <td>...</td>\n",
       "      <td>...</td>\n",
       "      <td>...</td>\n",
       "      <td>...</td>\n",
       "      <td>...</td>\n",
       "      <td>...</td>\n",
       "      <td>...</td>\n",
       "      <td>...</td>\n",
       "      <td>...</td>\n",
       "      <td>...</td>\n",
       "      <td>...</td>\n",
       "    </tr>\n",
       "    <tr>\n",
       "      <th>9352</th>\n",
       "      <td>NaN</td>\n",
       "      <td>NaT</td>\n",
       "      <td>3.1</td>\n",
       "      <td>1314.0</td>\n",
       "      <td>218.811816</td>\n",
       "      <td>13.5</td>\n",
       "      <td>1101.0</td>\n",
       "      <td>472.0</td>\n",
       "      <td>539.0</td>\n",
       "      <td>190.0</td>\n",
       "      <td>1374.0</td>\n",
       "      <td>1729.0</td>\n",
       "      <td>21.9</td>\n",
       "      <td>29.3</td>\n",
       "      <td>0.7568</td>\n",
       "    </tr>\n",
       "    <tr>\n",
       "      <th>9353</th>\n",
       "      <td>NaN</td>\n",
       "      <td>NaT</td>\n",
       "      <td>2.4</td>\n",
       "      <td>1163.0</td>\n",
       "      <td>218.811816</td>\n",
       "      <td>11.4</td>\n",
       "      <td>1027.0</td>\n",
       "      <td>353.0</td>\n",
       "      <td>604.0</td>\n",
       "      <td>179.0</td>\n",
       "      <td>1264.0</td>\n",
       "      <td>1269.0</td>\n",
       "      <td>24.3</td>\n",
       "      <td>23.7</td>\n",
       "      <td>0.7119</td>\n",
       "    </tr>\n",
       "    <tr>\n",
       "      <th>9354</th>\n",
       "      <td>NaN</td>\n",
       "      <td>NaT</td>\n",
       "      <td>2.4</td>\n",
       "      <td>1142.0</td>\n",
       "      <td>218.811816</td>\n",
       "      <td>12.4</td>\n",
       "      <td>1063.0</td>\n",
       "      <td>293.0</td>\n",
       "      <td>603.0</td>\n",
       "      <td>175.0</td>\n",
       "      <td>1241.0</td>\n",
       "      <td>1092.0</td>\n",
       "      <td>26.9</td>\n",
       "      <td>18.3</td>\n",
       "      <td>0.6406</td>\n",
       "    </tr>\n",
       "    <tr>\n",
       "      <th>9355</th>\n",
       "      <td>NaN</td>\n",
       "      <td>NaT</td>\n",
       "      <td>2.1</td>\n",
       "      <td>1003.0</td>\n",
       "      <td>218.811816</td>\n",
       "      <td>9.5</td>\n",
       "      <td>961.0</td>\n",
       "      <td>235.0</td>\n",
       "      <td>702.0</td>\n",
       "      <td>156.0</td>\n",
       "      <td>1041.0</td>\n",
       "      <td>770.0</td>\n",
       "      <td>28.3</td>\n",
       "      <td>13.5</td>\n",
       "      <td>0.5139</td>\n",
       "    </tr>\n",
       "    <tr>\n",
       "      <th>9356</th>\n",
       "      <td>NaN</td>\n",
       "      <td>NaT</td>\n",
       "      <td>2.2</td>\n",
       "      <td>1071.0</td>\n",
       "      <td>218.811816</td>\n",
       "      <td>11.9</td>\n",
       "      <td>1047.0</td>\n",
       "      <td>265.0</td>\n",
       "      <td>654.0</td>\n",
       "      <td>168.0</td>\n",
       "      <td>1129.0</td>\n",
       "      <td>816.0</td>\n",
       "      <td>28.5</td>\n",
       "      <td>13.1</td>\n",
       "      <td>0.5028</td>\n",
       "    </tr>\n",
       "  </tbody>\n",
       "</table>\n",
       "<p>9357 rows × 15 columns</p>\n",
       "</div>"
      ],
      "text/plain": [
       "      Date Time  CO(GT)  PT08.S1(CO)    NMHC(GT)  C6H6(GT)  PT08.S2(NMHC)  \\\n",
       "0      NaN  NaT     2.6       1360.0  150.000000      11.9         1046.0   \n",
       "1      NaN  NaT     2.0       1292.0  112.000000       9.4          955.0   \n",
       "2      NaN  NaT     2.2       1402.0   88.000000       9.0          939.0   \n",
       "3      NaN  NaT     2.2       1376.0   80.000000       9.2          948.0   \n",
       "4      NaN  NaT     1.6       1272.0   51.000000       6.5          836.0   \n",
       "...    ...  ...     ...          ...         ...       ...            ...   \n",
       "9352   NaN  NaT     3.1       1314.0  218.811816      13.5         1101.0   \n",
       "9353   NaN  NaT     2.4       1163.0  218.811816      11.4         1027.0   \n",
       "9354   NaN  NaT     2.4       1142.0  218.811816      12.4         1063.0   \n",
       "9355   NaN  NaT     2.1       1003.0  218.811816       9.5          961.0   \n",
       "9356   NaN  NaT     2.2       1071.0  218.811816      11.9         1047.0   \n",
       "\n",
       "      NOx(GT)  PT08.S3(NOx)  NO2(GT)  PT08.S4(NO2)  PT08.S5(O3)     T    RH  \\\n",
       "0       166.0        1056.0    113.0        1692.0       1268.0  13.6  48.9   \n",
       "1       103.0        1174.0     92.0        1559.0        972.0  13.3  47.7   \n",
       "2       131.0        1140.0    114.0        1555.0       1074.0  11.9  54.0   \n",
       "3       172.0        1092.0    122.0        1584.0       1203.0  11.0  60.0   \n",
       "4       131.0        1205.0    116.0        1490.0       1110.0  11.2  59.6   \n",
       "...       ...           ...      ...           ...          ...   ...   ...   \n",
       "9352    472.0         539.0    190.0        1374.0       1729.0  21.9  29.3   \n",
       "9353    353.0         604.0    179.0        1264.0       1269.0  24.3  23.7   \n",
       "9354    293.0         603.0    175.0        1241.0       1092.0  26.9  18.3   \n",
       "9355    235.0         702.0    156.0        1041.0        770.0  28.3  13.5   \n",
       "9356    265.0         654.0    168.0        1129.0        816.0  28.5  13.1   \n",
       "\n",
       "          AH  \n",
       "0     0.7578  \n",
       "1     0.7255  \n",
       "2     0.7502  \n",
       "3     0.7867  \n",
       "4     0.7888  \n",
       "...      ...  \n",
       "9352  0.7568  \n",
       "9353  0.7119  \n",
       "9354  0.6406  \n",
       "9355  0.5139  \n",
       "9356  0.5028  \n",
       "\n",
       "[9357 rows x 15 columns]"
      ]
     },
     "execution_count": 9,
     "metadata": {},
     "output_type": "execute_result"
    }
   ],
   "source": [
    "air_quality['Date']=air_quality['Date'].astype(float)\n",
    "air_quality.dtypes\n",
    "air_quality"
   ]
  },
  {
   "cell_type": "code",
   "execution_count": 10,
   "metadata": {
    "executionInfo": {
     "elapsed": 10,
     "status": "aborted",
     "timestamp": 1704180132930,
     "user": {
      "displayName": "pantech e learning",
      "userId": "02085171050783995221"
     },
     "user_tz": -330
    },
    "id": "SlXtpaufUGzX"
   },
   "outputs": [],
   "source": [
    " air_quality.loc[:,'Time']=air_quality['Time']"
   ]
  },
  {
   "cell_type": "code",
   "execution_count": 11,
   "metadata": {
    "executionInfo": {
     "elapsed": 10,
     "status": "aborted",
     "timestamp": 1704180132930,
     "user": {
      "displayName": "pantech e learning",
      "userId": "02085171050783995221"
     },
     "user_tz": -330
    },
    "id": "jKVIJ4jIUGza"
   },
   "outputs": [
    {
     "name": "stdout",
     "output_type": "stream",
     "text": [
      "Date                    float64\n",
      "Time             datetime64[ns]\n",
      "CO(GT)                  float64\n",
      "PT08.S1(CO)             float64\n",
      "NMHC(GT)                float64\n",
      "C6H6(GT)                float64\n",
      "PT08.S2(NMHC)           float64\n",
      "NOx(GT)                 float64\n",
      "PT08.S3(NOx)            float64\n",
      "NO2(GT)                 float64\n",
      "PT08.S4(NO2)            float64\n",
      "PT08.S5(O3)             float64\n",
      "T                       float64\n",
      "RH                      float64\n",
      "AH                      float64\n",
      "dtype: object\n"
     ]
    }
   ],
   "source": [
    "import pandas as pd\n",
    "from datetime import datetime\n",
    "\n",
    "# Assuming air_quality is your DataFrame and 'Time' is the column causing the error\n",
    "# Convert 'Time' column to datetime objects using pd.to_datetime\n",
    "air_quality['Time'] = pd.to_datetime(air_quality['Time'], errors='coerce')\n",
    "\n",
    "# Display data types after conversion\n",
    "print(air_quality.dtypes)\n"
   ]
  },
  {
   "cell_type": "code",
   "execution_count": 12,
   "metadata": {
    "executionInfo": {
     "elapsed": 11,
     "status": "aborted",
     "timestamp": 1704180132931,
     "user": {
      "displayName": "pantech e learning",
      "userId": "02085171050783995221"
     },
     "user_tz": -330
    },
    "id": "xaXEkqa2UGzn"
   },
   "outputs": [
    {
     "data": {
      "text/html": [
       "<div>\n",
       "<style scoped>\n",
       "    .dataframe tbody tr th:only-of-type {\n",
       "        vertical-align: middle;\n",
       "    }\n",
       "\n",
       "    .dataframe tbody tr th {\n",
       "        vertical-align: top;\n",
       "    }\n",
       "\n",
       "    .dataframe thead th {\n",
       "        text-align: right;\n",
       "    }\n",
       "</style>\n",
       "<table border=\"1\" class=\"dataframe\">\n",
       "  <thead>\n",
       "    <tr style=\"text-align: right;\">\n",
       "      <th></th>\n",
       "      <th>Date</th>\n",
       "      <th>Time</th>\n",
       "      <th>CO(GT)</th>\n",
       "      <th>PT08.S1(CO)</th>\n",
       "      <th>NMHC(GT)</th>\n",
       "      <th>C6H6(GT)</th>\n",
       "      <th>PT08.S2(NMHC)</th>\n",
       "      <th>NOx(GT)</th>\n",
       "      <th>PT08.S3(NOx)</th>\n",
       "      <th>NO2(GT)</th>\n",
       "      <th>PT08.S4(NO2)</th>\n",
       "      <th>PT08.S5(O3)</th>\n",
       "      <th>T</th>\n",
       "      <th>RH</th>\n",
       "      <th>AH</th>\n",
       "    </tr>\n",
       "  </thead>\n",
       "  <tbody>\n",
       "    <tr>\n",
       "      <th>9352</th>\n",
       "      <td>NaN</td>\n",
       "      <td>NaT</td>\n",
       "      <td>3.1</td>\n",
       "      <td>1314.0</td>\n",
       "      <td>218.811816</td>\n",
       "      <td>13.5</td>\n",
       "      <td>1101.0</td>\n",
       "      <td>472.0</td>\n",
       "      <td>539.0</td>\n",
       "      <td>190.0</td>\n",
       "      <td>1374.0</td>\n",
       "      <td>1729.0</td>\n",
       "      <td>21.9</td>\n",
       "      <td>29.3</td>\n",
       "      <td>0.7568</td>\n",
       "    </tr>\n",
       "    <tr>\n",
       "      <th>9353</th>\n",
       "      <td>NaN</td>\n",
       "      <td>NaT</td>\n",
       "      <td>2.4</td>\n",
       "      <td>1163.0</td>\n",
       "      <td>218.811816</td>\n",
       "      <td>11.4</td>\n",
       "      <td>1027.0</td>\n",
       "      <td>353.0</td>\n",
       "      <td>604.0</td>\n",
       "      <td>179.0</td>\n",
       "      <td>1264.0</td>\n",
       "      <td>1269.0</td>\n",
       "      <td>24.3</td>\n",
       "      <td>23.7</td>\n",
       "      <td>0.7119</td>\n",
       "    </tr>\n",
       "    <tr>\n",
       "      <th>9354</th>\n",
       "      <td>NaN</td>\n",
       "      <td>NaT</td>\n",
       "      <td>2.4</td>\n",
       "      <td>1142.0</td>\n",
       "      <td>218.811816</td>\n",
       "      <td>12.4</td>\n",
       "      <td>1063.0</td>\n",
       "      <td>293.0</td>\n",
       "      <td>603.0</td>\n",
       "      <td>175.0</td>\n",
       "      <td>1241.0</td>\n",
       "      <td>1092.0</td>\n",
       "      <td>26.9</td>\n",
       "      <td>18.3</td>\n",
       "      <td>0.6406</td>\n",
       "    </tr>\n",
       "    <tr>\n",
       "      <th>9355</th>\n",
       "      <td>NaN</td>\n",
       "      <td>NaT</td>\n",
       "      <td>2.1</td>\n",
       "      <td>1003.0</td>\n",
       "      <td>218.811816</td>\n",
       "      <td>9.5</td>\n",
       "      <td>961.0</td>\n",
       "      <td>235.0</td>\n",
       "      <td>702.0</td>\n",
       "      <td>156.0</td>\n",
       "      <td>1041.0</td>\n",
       "      <td>770.0</td>\n",
       "      <td>28.3</td>\n",
       "      <td>13.5</td>\n",
       "      <td>0.5139</td>\n",
       "    </tr>\n",
       "    <tr>\n",
       "      <th>9356</th>\n",
       "      <td>NaN</td>\n",
       "      <td>NaT</td>\n",
       "      <td>2.2</td>\n",
       "      <td>1071.0</td>\n",
       "      <td>218.811816</td>\n",
       "      <td>11.9</td>\n",
       "      <td>1047.0</td>\n",
       "      <td>265.0</td>\n",
       "      <td>654.0</td>\n",
       "      <td>168.0</td>\n",
       "      <td>1129.0</td>\n",
       "      <td>816.0</td>\n",
       "      <td>28.5</td>\n",
       "      <td>13.1</td>\n",
       "      <td>0.5028</td>\n",
       "    </tr>\n",
       "  </tbody>\n",
       "</table>\n",
       "</div>"
      ],
      "text/plain": [
       "      Date Time  CO(GT)  PT08.S1(CO)    NMHC(GT)  C6H6(GT)  PT08.S2(NMHC)  \\\n",
       "9352   NaN  NaT     3.1       1314.0  218.811816      13.5         1101.0   \n",
       "9353   NaN  NaT     2.4       1163.0  218.811816      11.4         1027.0   \n",
       "9354   NaN  NaT     2.4       1142.0  218.811816      12.4         1063.0   \n",
       "9355   NaN  NaT     2.1       1003.0  218.811816       9.5          961.0   \n",
       "9356   NaN  NaT     2.2       1071.0  218.811816      11.9         1047.0   \n",
       "\n",
       "      NOx(GT)  PT08.S3(NOx)  NO2(GT)  PT08.S4(NO2)  PT08.S5(O3)     T    RH  \\\n",
       "9352    472.0         539.0    190.0        1374.0       1729.0  21.9  29.3   \n",
       "9353    353.0         604.0    179.0        1264.0       1269.0  24.3  23.7   \n",
       "9354    293.0         603.0    175.0        1241.0       1092.0  26.9  18.3   \n",
       "9355    235.0         702.0    156.0        1041.0        770.0  28.3  13.5   \n",
       "9356    265.0         654.0    168.0        1129.0        816.0  28.5  13.1   \n",
       "\n",
       "          AH  \n",
       "9352  0.7568  \n",
       "9353  0.7119  \n",
       "9354  0.6406  \n",
       "9355  0.5139  \n",
       "9356  0.5028  "
      ]
     },
     "execution_count": 12,
     "metadata": {},
     "output_type": "execute_result"
    }
   ],
   "source": [
    "air_quality.tail()"
   ]
  },
  {
   "cell_type": "code",
   "execution_count": 13,
   "metadata": {
    "executionInfo": {
     "elapsed": 11,
     "status": "aborted",
     "timestamp": 1704180132931,
     "user": {
      "displayName": "pantech e learning",
      "userId": "02085171050783995221"
     },
     "user_tz": -330
    },
    "id": "UfI0JIj6UGzr",
    "scrolled": true
   },
   "outputs": [
    {
     "data": {
      "text/html": [
       "<div>\n",
       "<style scoped>\n",
       "    .dataframe tbody tr th:only-of-type {\n",
       "        vertical-align: middle;\n",
       "    }\n",
       "\n",
       "    .dataframe tbody tr th {\n",
       "        vertical-align: top;\n",
       "    }\n",
       "\n",
       "    .dataframe thead th {\n",
       "        text-align: right;\n",
       "    }\n",
       "</style>\n",
       "<table border=\"1\" class=\"dataframe\">\n",
       "  <thead>\n",
       "    <tr style=\"text-align: right;\">\n",
       "      <th></th>\n",
       "      <th>Date</th>\n",
       "      <th>Time</th>\n",
       "      <th>CO(GT)</th>\n",
       "      <th>PT08.S1(CO)</th>\n",
       "      <th>NMHC(GT)</th>\n",
       "      <th>C6H6(GT)</th>\n",
       "      <th>PT08.S2(NMHC)</th>\n",
       "      <th>NOx(GT)</th>\n",
       "      <th>PT08.S3(NOx)</th>\n",
       "      <th>NO2(GT)</th>\n",
       "      <th>PT08.S4(NO2)</th>\n",
       "      <th>PT08.S5(O3)</th>\n",
       "      <th>T</th>\n",
       "      <th>RH</th>\n",
       "      <th>AH</th>\n",
       "    </tr>\n",
       "  </thead>\n",
       "  <tbody>\n",
       "    <tr>\n",
       "      <th>Date</th>\n",
       "      <td>NaN</td>\n",
       "      <td>NaN</td>\n",
       "      <td>NaN</td>\n",
       "      <td>NaN</td>\n",
       "      <td>NaN</td>\n",
       "      <td>NaN</td>\n",
       "      <td>NaN</td>\n",
       "      <td>NaN</td>\n",
       "      <td>NaN</td>\n",
       "      <td>NaN</td>\n",
       "      <td>NaN</td>\n",
       "      <td>NaN</td>\n",
       "      <td>NaN</td>\n",
       "      <td>NaN</td>\n",
       "      <td>NaN</td>\n",
       "    </tr>\n",
       "    <tr>\n",
       "      <th>Time</th>\n",
       "      <td>NaN</td>\n",
       "      <td>NaN</td>\n",
       "      <td>NaN</td>\n",
       "      <td>NaN</td>\n",
       "      <td>NaN</td>\n",
       "      <td>NaN</td>\n",
       "      <td>NaN</td>\n",
       "      <td>NaN</td>\n",
       "      <td>NaN</td>\n",
       "      <td>NaN</td>\n",
       "      <td>NaN</td>\n",
       "      <td>NaN</td>\n",
       "      <td>NaN</td>\n",
       "      <td>NaN</td>\n",
       "      <td>NaN</td>\n",
       "    </tr>\n",
       "    <tr>\n",
       "      <th>CO(GT)</th>\n",
       "      <td>NaN</td>\n",
       "      <td>NaN</td>\n",
       "      <td>1.000000</td>\n",
       "      <td>0.773394</td>\n",
       "      <td>0.289975</td>\n",
       "      <td>0.812361</td>\n",
       "      <td>0.795578</td>\n",
       "      <td>0.762273</td>\n",
       "      <td>-0.613877</td>\n",
       "      <td>0.646349</td>\n",
       "      <td>0.558232</td>\n",
       "      <td>0.759027</td>\n",
       "      <td>0.020257</td>\n",
       "      <td>0.043198</td>\n",
       "      <td>0.043274</td>\n",
       "    </tr>\n",
       "    <tr>\n",
       "      <th>PT08.S1(CO)</th>\n",
       "      <td>NaN</td>\n",
       "      <td>NaN</td>\n",
       "      <td>0.773394</td>\n",
       "      <td>1.000000</td>\n",
       "      <td>0.278282</td>\n",
       "      <td>0.883795</td>\n",
       "      <td>0.892964</td>\n",
       "      <td>0.615941</td>\n",
       "      <td>-0.771938</td>\n",
       "      <td>0.562843</td>\n",
       "      <td>0.682881</td>\n",
       "      <td>0.899324</td>\n",
       "      <td>0.048627</td>\n",
       "      <td>0.114606</td>\n",
       "      <td>0.135324</td>\n",
       "    </tr>\n",
       "    <tr>\n",
       "      <th>NMHC(GT)</th>\n",
       "      <td>NaN</td>\n",
       "      <td>NaN</td>\n",
       "      <td>0.289975</td>\n",
       "      <td>0.278282</td>\n",
       "      <td>1.000000</td>\n",
       "      <td>0.281928</td>\n",
       "      <td>0.279761</td>\n",
       "      <td>0.098180</td>\n",
       "      <td>-0.261997</td>\n",
       "      <td>0.156510</td>\n",
       "      <td>0.232979</td>\n",
       "      <td>0.240592</td>\n",
       "      <td>0.066782</td>\n",
       "      <td>-0.052784</td>\n",
       "      <td>0.037173</td>\n",
       "    </tr>\n",
       "    <tr>\n",
       "      <th>C6H6(GT)</th>\n",
       "      <td>NaN</td>\n",
       "      <td>NaN</td>\n",
       "      <td>0.812361</td>\n",
       "      <td>0.883795</td>\n",
       "      <td>0.281928</td>\n",
       "      <td>1.000000</td>\n",
       "      <td>0.981950</td>\n",
       "      <td>0.616801</td>\n",
       "      <td>-0.735744</td>\n",
       "      <td>0.535919</td>\n",
       "      <td>0.765731</td>\n",
       "      <td>0.865689</td>\n",
       "      <td>0.198956</td>\n",
       "      <td>-0.061681</td>\n",
       "      <td>0.167972</td>\n",
       "    </tr>\n",
       "    <tr>\n",
       "      <th>PT08.S2(NMHC)</th>\n",
       "      <td>NaN</td>\n",
       "      <td>NaN</td>\n",
       "      <td>0.795578</td>\n",
       "      <td>0.892964</td>\n",
       "      <td>0.279761</td>\n",
       "      <td>0.981950</td>\n",
       "      <td>1.000000</td>\n",
       "      <td>0.601773</td>\n",
       "      <td>-0.796703</td>\n",
       "      <td>0.561180</td>\n",
       "      <td>0.777254</td>\n",
       "      <td>0.880578</td>\n",
       "      <td>0.241373</td>\n",
       "      <td>-0.090380</td>\n",
       "      <td>0.186933</td>\n",
       "    </tr>\n",
       "    <tr>\n",
       "      <th>NOx(GT)</th>\n",
       "      <td>NaN</td>\n",
       "      <td>NaN</td>\n",
       "      <td>0.762273</td>\n",
       "      <td>0.615941</td>\n",
       "      <td>0.098180</td>\n",
       "      <td>0.616801</td>\n",
       "      <td>0.601773</td>\n",
       "      <td>1.000000</td>\n",
       "      <td>-0.563270</td>\n",
       "      <td>0.763074</td>\n",
       "      <td>0.205485</td>\n",
       "      <td>0.688205</td>\n",
       "      <td>-0.235636</td>\n",
       "      <td>0.192587</td>\n",
       "      <td>-0.126868</td>\n",
       "    </tr>\n",
       "    <tr>\n",
       "      <th>PT08.S3(NOx)</th>\n",
       "      <td>NaN</td>\n",
       "      <td>NaN</td>\n",
       "      <td>-0.613877</td>\n",
       "      <td>-0.771938</td>\n",
       "      <td>-0.261997</td>\n",
       "      <td>-0.735744</td>\n",
       "      <td>-0.796703</td>\n",
       "      <td>-0.563270</td>\n",
       "      <td>1.000000</td>\n",
       "      <td>-0.569479</td>\n",
       "      <td>-0.538468</td>\n",
       "      <td>-0.796569</td>\n",
       "      <td>-0.145112</td>\n",
       "      <td>-0.056740</td>\n",
       "      <td>-0.232017</td>\n",
       "    </tr>\n",
       "    <tr>\n",
       "      <th>NO2(GT)</th>\n",
       "      <td>NaN</td>\n",
       "      <td>NaN</td>\n",
       "      <td>0.646349</td>\n",
       "      <td>0.562843</td>\n",
       "      <td>0.156510</td>\n",
       "      <td>0.535919</td>\n",
       "      <td>0.561180</td>\n",
       "      <td>0.763074</td>\n",
       "      <td>-0.569479</td>\n",
       "      <td>1.000000</td>\n",
       "      <td>0.140655</td>\n",
       "      <td>0.629443</td>\n",
       "      <td>-0.165466</td>\n",
       "      <td>-0.080569</td>\n",
       "      <td>-0.291392</td>\n",
       "    </tr>\n",
       "    <tr>\n",
       "      <th>PT08.S4(NO2)</th>\n",
       "      <td>NaN</td>\n",
       "      <td>NaN</td>\n",
       "      <td>0.558232</td>\n",
       "      <td>0.682881</td>\n",
       "      <td>0.232979</td>\n",
       "      <td>0.765731</td>\n",
       "      <td>0.777254</td>\n",
       "      <td>0.205485</td>\n",
       "      <td>-0.538468</td>\n",
       "      <td>0.140655</td>\n",
       "      <td>1.000000</td>\n",
       "      <td>0.591144</td>\n",
       "      <td>0.561270</td>\n",
       "      <td>-0.032188</td>\n",
       "      <td>0.629641</td>\n",
       "    </tr>\n",
       "    <tr>\n",
       "      <th>PT08.S5(O3)</th>\n",
       "      <td>NaN</td>\n",
       "      <td>NaN</td>\n",
       "      <td>0.759027</td>\n",
       "      <td>0.899324</td>\n",
       "      <td>0.240592</td>\n",
       "      <td>0.865689</td>\n",
       "      <td>0.880578</td>\n",
       "      <td>0.688205</td>\n",
       "      <td>-0.796569</td>\n",
       "      <td>0.629443</td>\n",
       "      <td>0.591144</td>\n",
       "      <td>1.000000</td>\n",
       "      <td>-0.027172</td>\n",
       "      <td>0.124956</td>\n",
       "      <td>0.070751</td>\n",
       "    </tr>\n",
       "    <tr>\n",
       "      <th>T</th>\n",
       "      <td>NaN</td>\n",
       "      <td>NaN</td>\n",
       "      <td>0.020257</td>\n",
       "      <td>0.048627</td>\n",
       "      <td>0.066782</td>\n",
       "      <td>0.198956</td>\n",
       "      <td>0.241373</td>\n",
       "      <td>-0.235636</td>\n",
       "      <td>-0.145112</td>\n",
       "      <td>-0.165466</td>\n",
       "      <td>0.561270</td>\n",
       "      <td>-0.027172</td>\n",
       "      <td>1.000000</td>\n",
       "      <td>-0.578621</td>\n",
       "      <td>0.656397</td>\n",
       "    </tr>\n",
       "    <tr>\n",
       "      <th>RH</th>\n",
       "      <td>NaN</td>\n",
       "      <td>NaN</td>\n",
       "      <td>0.043198</td>\n",
       "      <td>0.114606</td>\n",
       "      <td>-0.052784</td>\n",
       "      <td>-0.061681</td>\n",
       "      <td>-0.090380</td>\n",
       "      <td>0.192587</td>\n",
       "      <td>-0.056740</td>\n",
       "      <td>-0.080569</td>\n",
       "      <td>-0.032188</td>\n",
       "      <td>0.124956</td>\n",
       "      <td>-0.578621</td>\n",
       "      <td>1.000000</td>\n",
       "      <td>0.167971</td>\n",
       "    </tr>\n",
       "    <tr>\n",
       "      <th>AH</th>\n",
       "      <td>NaN</td>\n",
       "      <td>NaN</td>\n",
       "      <td>0.043274</td>\n",
       "      <td>0.135324</td>\n",
       "      <td>0.037173</td>\n",
       "      <td>0.167972</td>\n",
       "      <td>0.186933</td>\n",
       "      <td>-0.126868</td>\n",
       "      <td>-0.232017</td>\n",
       "      <td>-0.291392</td>\n",
       "      <td>0.629641</td>\n",
       "      <td>0.070751</td>\n",
       "      <td>0.656397</td>\n",
       "      <td>0.167971</td>\n",
       "      <td>1.000000</td>\n",
       "    </tr>\n",
       "  </tbody>\n",
       "</table>\n",
       "</div>"
      ],
      "text/plain": [
       "               Date  Time    CO(GT)  PT08.S1(CO)  NMHC(GT)  C6H6(GT)  \\\n",
       "Date            NaN   NaN       NaN          NaN       NaN       NaN   \n",
       "Time            NaN   NaN       NaN          NaN       NaN       NaN   \n",
       "CO(GT)          NaN   NaN  1.000000     0.773394  0.289975  0.812361   \n",
       "PT08.S1(CO)     NaN   NaN  0.773394     1.000000  0.278282  0.883795   \n",
       "NMHC(GT)        NaN   NaN  0.289975     0.278282  1.000000  0.281928   \n",
       "C6H6(GT)        NaN   NaN  0.812361     0.883795  0.281928  1.000000   \n",
       "PT08.S2(NMHC)   NaN   NaN  0.795578     0.892964  0.279761  0.981950   \n",
       "NOx(GT)         NaN   NaN  0.762273     0.615941  0.098180  0.616801   \n",
       "PT08.S3(NOx)    NaN   NaN -0.613877    -0.771938 -0.261997 -0.735744   \n",
       "NO2(GT)         NaN   NaN  0.646349     0.562843  0.156510  0.535919   \n",
       "PT08.S4(NO2)    NaN   NaN  0.558232     0.682881  0.232979  0.765731   \n",
       "PT08.S5(O3)     NaN   NaN  0.759027     0.899324  0.240592  0.865689   \n",
       "T               NaN   NaN  0.020257     0.048627  0.066782  0.198956   \n",
       "RH              NaN   NaN  0.043198     0.114606 -0.052784 -0.061681   \n",
       "AH              NaN   NaN  0.043274     0.135324  0.037173  0.167972   \n",
       "\n",
       "               PT08.S2(NMHC)   NOx(GT)  PT08.S3(NOx)   NO2(GT)  PT08.S4(NO2)  \\\n",
       "Date                     NaN       NaN           NaN       NaN           NaN   \n",
       "Time                     NaN       NaN           NaN       NaN           NaN   \n",
       "CO(GT)              0.795578  0.762273     -0.613877  0.646349      0.558232   \n",
       "PT08.S1(CO)         0.892964  0.615941     -0.771938  0.562843      0.682881   \n",
       "NMHC(GT)            0.279761  0.098180     -0.261997  0.156510      0.232979   \n",
       "C6H6(GT)            0.981950  0.616801     -0.735744  0.535919      0.765731   \n",
       "PT08.S2(NMHC)       1.000000  0.601773     -0.796703  0.561180      0.777254   \n",
       "NOx(GT)             0.601773  1.000000     -0.563270  0.763074      0.205485   \n",
       "PT08.S3(NOx)       -0.796703 -0.563270      1.000000 -0.569479     -0.538468   \n",
       "NO2(GT)             0.561180  0.763074     -0.569479  1.000000      0.140655   \n",
       "PT08.S4(NO2)        0.777254  0.205485     -0.538468  0.140655      1.000000   \n",
       "PT08.S5(O3)         0.880578  0.688205     -0.796569  0.629443      0.591144   \n",
       "T                   0.241373 -0.235636     -0.145112 -0.165466      0.561270   \n",
       "RH                 -0.090380  0.192587     -0.056740 -0.080569     -0.032188   \n",
       "AH                  0.186933 -0.126868     -0.232017 -0.291392      0.629641   \n",
       "\n",
       "               PT08.S5(O3)         T        RH        AH  \n",
       "Date                   NaN       NaN       NaN       NaN  \n",
       "Time                   NaN       NaN       NaN       NaN  \n",
       "CO(GT)            0.759027  0.020257  0.043198  0.043274  \n",
       "PT08.S1(CO)       0.899324  0.048627  0.114606  0.135324  \n",
       "NMHC(GT)          0.240592  0.066782 -0.052784  0.037173  \n",
       "C6H6(GT)          0.865689  0.198956 -0.061681  0.167972  \n",
       "PT08.S2(NMHC)     0.880578  0.241373 -0.090380  0.186933  \n",
       "NOx(GT)           0.688205 -0.235636  0.192587 -0.126868  \n",
       "PT08.S3(NOx)     -0.796569 -0.145112 -0.056740 -0.232017  \n",
       "NO2(GT)           0.629443 -0.165466 -0.080569 -0.291392  \n",
       "PT08.S4(NO2)      0.591144  0.561270 -0.032188  0.629641  \n",
       "PT08.S5(O3)       1.000000 -0.027172  0.124956  0.070751  \n",
       "T                -0.027172  1.000000 -0.578621  0.656397  \n",
       "RH                0.124956 -0.578621  1.000000  0.167971  \n",
       "AH                0.070751  0.656397  0.167971  1.000000  "
      ]
     },
     "execution_count": 13,
     "metadata": {},
     "output_type": "execute_result"
    }
   ],
   "source": [
    "air_quality2=air_quality.corr('pearson')\n",
    "air_quality2"
   ]
  },
  {
   "cell_type": "code",
   "execution_count": 14,
   "metadata": {
    "executionInfo": {
     "elapsed": 11,
     "status": "aborted",
     "timestamp": 1704180132931,
     "user": {
      "displayName": "pantech e learning",
      "userId": "02085171050783995221"
     },
     "user_tz": -330
    },
    "id": "xDjGHlq-UGzv",
    "scrolled": false
   },
   "outputs": [
    {
     "data": {
      "text/plain": [
       "T                1.000000\n",
       "AH               0.656397\n",
       "RH               0.578621\n",
       "PT08.S4(NO2)     0.561270\n",
       "PT08.S2(NMHC)    0.241373\n",
       "NOx(GT)          0.235636\n",
       "C6H6(GT)         0.198956\n",
       "NO2(GT)          0.165466\n",
       "PT08.S3(NOx)     0.145112\n",
       "NMHC(GT)         0.066782\n",
       "PT08.S1(CO)      0.048627\n",
       "PT08.S5(O3)      0.027172\n",
       "CO(GT)           0.020257\n",
       "Date                  NaN\n",
       "Time                  NaN\n",
       "Name: T, dtype: float64"
      ]
     },
     "execution_count": 14,
     "metadata": {},
     "output_type": "execute_result"
    }
   ],
   "source": [
    "abs(air_quality2['T']).sort_values(ascending=False)"
   ]
  },
  {
   "cell_type": "code",
   "execution_count": 15,
   "metadata": {
    "executionInfo": {
     "elapsed": 11,
     "status": "aborted",
     "timestamp": 1704180132931,
     "user": {
      "displayName": "pantech e learning",
      "userId": "02085171050783995221"
     },
     "user_tz": -330
    },
    "id": "x2oCld1KUGz0"
   },
   "outputs": [],
   "source": [
    "from sklearn.preprocessing import MinMaxScaler"
   ]
  },
  {
   "cell_type": "code",
   "execution_count": 16,
   "metadata": {
    "executionInfo": {
     "elapsed": 11,
     "status": "aborted",
     "timestamp": 1704180132931,
     "user": {
      "displayName": "pantech e learning",
      "userId": "02085171050783995221"
     },
     "user_tz": -330
    },
    "id": "S8HMqX_0UGz3"
   },
   "outputs": [],
   "source": [
    "# num = air_quality.keys()\n",
    "# scaler = MinMaxScaler()\n",
    "# scaler.fit(air_quality[num])\n",
    "# air_quality[num] = scaler.transform(air_quality[num])"
   ]
  },
  {
   "cell_type": "code",
   "execution_count": 17,
   "metadata": {
    "executionInfo": {
     "elapsed": 11,
     "status": "aborted",
     "timestamp": 1704180132931,
     "user": {
      "displayName": "pantech e learning",
      "userId": "02085171050783995221"
     },
     "user_tz": -330
    },
    "id": "IFH-WYRRUGz7"
   },
   "outputs": [],
   "source": [
    "features=air_quality\n",
    "target=air_quality['T']"
   ]
  },
  {
   "cell_type": "code",
   "execution_count": 18,
   "metadata": {
    "executionInfo": {
     "elapsed": 12,
     "status": "aborted",
     "timestamp": 1704180132932,
     "user": {
      "displayName": "pantech e learning",
      "userId": "02085171050783995221"
     },
     "user_tz": -330
    },
    "id": "X9v1VOZAUGz-",
    "scrolled": true
   },
   "outputs": [
    {
     "data": {
      "text/html": [
       "<div>\n",
       "<style scoped>\n",
       "    .dataframe tbody tr th:only-of-type {\n",
       "        vertical-align: middle;\n",
       "    }\n",
       "\n",
       "    .dataframe tbody tr th {\n",
       "        vertical-align: top;\n",
       "    }\n",
       "\n",
       "    .dataframe thead th {\n",
       "        text-align: right;\n",
       "    }\n",
       "</style>\n",
       "<table border=\"1\" class=\"dataframe\">\n",
       "  <thead>\n",
       "    <tr style=\"text-align: right;\">\n",
       "      <th></th>\n",
       "      <th>C6H6(GT)</th>\n",
       "      <th>PT08.S2(NMHC)</th>\n",
       "      <th>NOx(GT)</th>\n",
       "      <th>PT08.S3(NOx)</th>\n",
       "      <th>NO2(GT)</th>\n",
       "      <th>PT08.S4(NO2)</th>\n",
       "      <th>RH</th>\n",
       "      <th>AH</th>\n",
       "    </tr>\n",
       "  </thead>\n",
       "  <tbody>\n",
       "    <tr>\n",
       "      <th>9352</th>\n",
       "      <td>13.5</td>\n",
       "      <td>1101.0</td>\n",
       "      <td>472.0</td>\n",
       "      <td>539.0</td>\n",
       "      <td>190.0</td>\n",
       "      <td>1374.0</td>\n",
       "      <td>29.3</td>\n",
       "      <td>0.7568</td>\n",
       "    </tr>\n",
       "    <tr>\n",
       "      <th>9353</th>\n",
       "      <td>11.4</td>\n",
       "      <td>1027.0</td>\n",
       "      <td>353.0</td>\n",
       "      <td>604.0</td>\n",
       "      <td>179.0</td>\n",
       "      <td>1264.0</td>\n",
       "      <td>23.7</td>\n",
       "      <td>0.7119</td>\n",
       "    </tr>\n",
       "    <tr>\n",
       "      <th>9354</th>\n",
       "      <td>12.4</td>\n",
       "      <td>1063.0</td>\n",
       "      <td>293.0</td>\n",
       "      <td>603.0</td>\n",
       "      <td>175.0</td>\n",
       "      <td>1241.0</td>\n",
       "      <td>18.3</td>\n",
       "      <td>0.6406</td>\n",
       "    </tr>\n",
       "    <tr>\n",
       "      <th>9355</th>\n",
       "      <td>9.5</td>\n",
       "      <td>961.0</td>\n",
       "      <td>235.0</td>\n",
       "      <td>702.0</td>\n",
       "      <td>156.0</td>\n",
       "      <td>1041.0</td>\n",
       "      <td>13.5</td>\n",
       "      <td>0.5139</td>\n",
       "    </tr>\n",
       "    <tr>\n",
       "      <th>9356</th>\n",
       "      <td>11.9</td>\n",
       "      <td>1047.0</td>\n",
       "      <td>265.0</td>\n",
       "      <td>654.0</td>\n",
       "      <td>168.0</td>\n",
       "      <td>1129.0</td>\n",
       "      <td>13.1</td>\n",
       "      <td>0.5028</td>\n",
       "    </tr>\n",
       "  </tbody>\n",
       "</table>\n",
       "</div>"
      ],
      "text/plain": [
       "      C6H6(GT)  PT08.S2(NMHC)  NOx(GT)  PT08.S3(NOx)  NO2(GT)  PT08.S4(NO2)  \\\n",
       "9352      13.5         1101.0    472.0         539.0    190.0        1374.0   \n",
       "9353      11.4         1027.0    353.0         604.0    179.0        1264.0   \n",
       "9354      12.4         1063.0    293.0         603.0    175.0        1241.0   \n",
       "9355       9.5          961.0    235.0         702.0    156.0        1041.0   \n",
       "9356      11.9         1047.0    265.0         654.0    168.0        1129.0   \n",
       "\n",
       "        RH      AH  \n",
       "9352  29.3  0.7568  \n",
       "9353  23.7  0.7119  \n",
       "9354  18.3  0.6406  \n",
       "9355  13.5  0.5139  \n",
       "9356  13.1  0.5028  "
      ]
     },
     "execution_count": 18,
     "metadata": {},
     "output_type": "execute_result"
    }
   ],
   "source": [
    "features=features.drop('Date',axis=1)\n",
    "features=features.drop('Time',axis=1)\n",
    "features=features.drop('T',axis=1)\n",
    "features=features.drop('CO(GT)',axis=1)\n",
    "features=features.drop('PT08.S5(O3)',axis=1)\n",
    "features=features.drop('NMHC(GT)',axis=1)\n",
    "features=features.drop('PT08.S1(CO)',axis=1)\n",
    "features.tail()"
   ]
  },
  {
   "cell_type": "code",
   "execution_count": 19,
   "metadata": {
    "executionInfo": {
     "elapsed": 12,
     "status": "aborted",
     "timestamp": 1704180132932,
     "user": {
      "displayName": "pantech e learning",
      "userId": "02085171050783995221"
     },
     "user_tz": -330
    },
    "id": "FJwYma6KUG0C"
   },
   "outputs": [],
   "source": [
    "from sklearn.model_selection import train_test_split"
   ]
  },
  {
   "cell_type": "code",
   "execution_count": 20,
   "metadata": {
    "executionInfo": {
     "elapsed": 11,
     "status": "aborted",
     "timestamp": 1704180132932,
     "user": {
      "displayName": "pantech e learning",
      "userId": "02085171050783995221"
     },
     "user_tz": -330
    },
    "id": "aaQgsY0DUG0F",
    "scrolled": true
   },
   "outputs": [
    {
     "data": {
      "text/plain": [
       "2346    30.1\n",
       "6304     9.7\n",
       "4886    18.5\n",
       "3952    30.4\n",
       "2044    22.1\n",
       "Name: T, dtype: float64"
      ]
     },
     "execution_count": 20,
     "metadata": {},
     "output_type": "execute_result"
    }
   ],
   "source": [
    "X_train, X_test, y_train, y_test = train_test_split(features, target)\n",
    "y_test.tail()"
   ]
  },
  {
   "cell_type": "markdown",
   "metadata": {
    "id": "Y2lxyUkLfBpj"
   },
   "source": [
    "# feature scaling"
   ]
  },
  {
   "cell_type": "code",
   "execution_count": 21,
   "metadata": {
    "executionInfo": {
     "elapsed": 11,
     "status": "aborted",
     "timestamp": 1704180132932,
     "user": {
      "displayName": "pantech e learning",
      "userId": "02085171050783995221"
     },
     "user_tz": -330
    },
    "id": "btDRBmQOfBpj"
   },
   "outputs": [],
   "source": [
    "from sklearn.preprocessing import StandardScaler\n",
    "sc = StandardScaler()\n",
    "X_train = sc.fit_transform(X_train)\n",
    "X_test = sc.transform(X_test)"
   ]
  },
  {
   "cell_type": "markdown",
   "metadata": {
    "id": "M4z2U3VPUG0J"
   },
   "source": [
    "# Linear Regression"
   ]
  },
  {
   "cell_type": "code",
   "execution_count": 22,
   "metadata": {
    "executionInfo": {
     "elapsed": 11,
     "status": "aborted",
     "timestamp": 1704180132932,
     "user": {
      "displayName": "pantech e learning",
      "userId": "02085171050783995221"
     },
     "user_tz": -330
    },
    "id": "baHafcc7UG0K"
   },
   "outputs": [],
   "source": [
    "from sklearn.linear_model import LinearRegression"
   ]
  },
  {
   "cell_type": "code",
   "execution_count": 23,
   "metadata": {
    "executionInfo": {
     "elapsed": 11,
     "status": "aborted",
     "timestamp": 1704180132932,
     "user": {
      "displayName": "pantech e learning",
      "userId": "02085171050783995221"
     },
     "user_tz": -330
    },
    "id": "LJLl-fc8UG0N"
   },
   "outputs": [
    {
     "data": {
      "text/html": [
       "<style>#sk-container-id-1 {color: black;}#sk-container-id-1 pre{padding: 0;}#sk-container-id-1 div.sk-toggleable {background-color: white;}#sk-container-id-1 label.sk-toggleable__label {cursor: pointer;display: block;width: 100%;margin-bottom: 0;padding: 0.3em;box-sizing: border-box;text-align: center;}#sk-container-id-1 label.sk-toggleable__label-arrow:before {content: \"▸\";float: left;margin-right: 0.25em;color: #696969;}#sk-container-id-1 label.sk-toggleable__label-arrow:hover:before {color: black;}#sk-container-id-1 div.sk-estimator:hover label.sk-toggleable__label-arrow:before {color: black;}#sk-container-id-1 div.sk-toggleable__content {max-height: 0;max-width: 0;overflow: hidden;text-align: left;background-color: #f0f8ff;}#sk-container-id-1 div.sk-toggleable__content pre {margin: 0.2em;color: black;border-radius: 0.25em;background-color: #f0f8ff;}#sk-container-id-1 input.sk-toggleable__control:checked~div.sk-toggleable__content {max-height: 200px;max-width: 100%;overflow: auto;}#sk-container-id-1 input.sk-toggleable__control:checked~label.sk-toggleable__label-arrow:before {content: \"▾\";}#sk-container-id-1 div.sk-estimator input.sk-toggleable__control:checked~label.sk-toggleable__label {background-color: #d4ebff;}#sk-container-id-1 div.sk-label input.sk-toggleable__control:checked~label.sk-toggleable__label {background-color: #d4ebff;}#sk-container-id-1 input.sk-hidden--visually {border: 0;clip: rect(1px 1px 1px 1px);clip: rect(1px, 1px, 1px, 1px);height: 1px;margin: -1px;overflow: hidden;padding: 0;position: absolute;width: 1px;}#sk-container-id-1 div.sk-estimator {font-family: monospace;background-color: #f0f8ff;border: 1px dotted black;border-radius: 0.25em;box-sizing: border-box;margin-bottom: 0.5em;}#sk-container-id-1 div.sk-estimator:hover {background-color: #d4ebff;}#sk-container-id-1 div.sk-parallel-item::after {content: \"\";width: 100%;border-bottom: 1px solid gray;flex-grow: 1;}#sk-container-id-1 div.sk-label:hover label.sk-toggleable__label {background-color: #d4ebff;}#sk-container-id-1 div.sk-serial::before {content: \"\";position: absolute;border-left: 1px solid gray;box-sizing: border-box;top: 0;bottom: 0;left: 50%;z-index: 0;}#sk-container-id-1 div.sk-serial {display: flex;flex-direction: column;align-items: center;background-color: white;padding-right: 0.2em;padding-left: 0.2em;position: relative;}#sk-container-id-1 div.sk-item {position: relative;z-index: 1;}#sk-container-id-1 div.sk-parallel {display: flex;align-items: stretch;justify-content: center;background-color: white;position: relative;}#sk-container-id-1 div.sk-item::before, #sk-container-id-1 div.sk-parallel-item::before {content: \"\";position: absolute;border-left: 1px solid gray;box-sizing: border-box;top: 0;bottom: 0;left: 50%;z-index: -1;}#sk-container-id-1 div.sk-parallel-item {display: flex;flex-direction: column;z-index: 1;position: relative;background-color: white;}#sk-container-id-1 div.sk-parallel-item:first-child::after {align-self: flex-end;width: 50%;}#sk-container-id-1 div.sk-parallel-item:last-child::after {align-self: flex-start;width: 50%;}#sk-container-id-1 div.sk-parallel-item:only-child::after {width: 0;}#sk-container-id-1 div.sk-dashed-wrapped {border: 1px dashed gray;margin: 0 0.4em 0.5em 0.4em;box-sizing: border-box;padding-bottom: 0.4em;background-color: white;}#sk-container-id-1 div.sk-label label {font-family: monospace;font-weight: bold;display: inline-block;line-height: 1.2em;}#sk-container-id-1 div.sk-label-container {text-align: center;}#sk-container-id-1 div.sk-container {/* jupyter's `normalize.less` sets `[hidden] { display: none; }` but bootstrap.min.css set `[hidden] { display: none !important; }` so we also need the `!important` here to be able to override the default hidden behavior on the sphinx rendered scikit-learn.org. See: https://github.com/scikit-learn/scikit-learn/issues/21755 */display: inline-block !important;position: relative;}#sk-container-id-1 div.sk-text-repr-fallback {display: none;}</style><div id=\"sk-container-id-1\" class=\"sk-top-container\"><div class=\"sk-text-repr-fallback\"><pre>LinearRegression()</pre><b>In a Jupyter environment, please rerun this cell to show the HTML representation or trust the notebook. <br />On GitHub, the HTML representation is unable to render, please try loading this page with nbviewer.org.</b></div><div class=\"sk-container\" hidden><div class=\"sk-item\"><div class=\"sk-estimator sk-toggleable\"><input class=\"sk-toggleable__control sk-hidden--visually\" id=\"sk-estimator-id-1\" type=\"checkbox\" checked><label for=\"sk-estimator-id-1\" class=\"sk-toggleable__label sk-toggleable__label-arrow\">LinearRegression</label><div class=\"sk-toggleable__content\"><pre>LinearRegression()</pre></div></div></div></div></div>"
      ],
      "text/plain": [
       "LinearRegression()"
      ]
     },
     "execution_count": 23,
     "metadata": {},
     "output_type": "execute_result"
    }
   ],
   "source": [
    "from sklearn.linear_model import LinearRegression\n",
    "from sklearn.preprocessing import StandardScaler\n",
    "\n",
    "# Assuming X_train is your feature matrix and y_train is your target variable\n",
    "\n",
    "# Create a StandardScaler\n",
    "scaler = StandardScaler()\n",
    "\n",
    "# Fit the scaler on the training data and transform the features\n",
    "X_train_scaled = scaler.fit_transform(X_train)\n",
    "\n",
    "# Create a LinearRegression model\n",
    "regressor = LinearRegression()\n",
    "\n",
    "# Fit the model on the scaled features\n",
    "regressor.fit(X_train_scaled, y_train)\n"
   ]
  },
  {
   "cell_type": "code",
   "execution_count": 24,
   "metadata": {
    "executionInfo": {
     "elapsed": 12,
     "status": "aborted",
     "timestamp": 1704180132932,
     "user": {
      "displayName": "pantech e learning",
      "userId": "02085171050783995221"
     },
     "user_tz": -330
    },
    "id": "eKEzKsMpUG0R"
   },
   "outputs": [
    {
     "name": "stdout",
     "output_type": "stream",
     "text": [
      "Predicted values: [21.4958221  13.06787677 15.96585334 ... 17.17457114 30.77250161\n",
      " 23.4985188 ]\n"
     ]
    },
    {
     "data": {
      "text/plain": [
       "(2340,)"
      ]
     },
     "execution_count": 24,
     "metadata": {},
     "output_type": "execute_result"
    }
   ],
   "source": [
    "print(\"Predicted values:\", regressor.predict(X_test))\n",
    "y_pred = regressor.predict(X_test)\n",
    "y_pred.shape\n"
   ]
  },
  {
   "cell_type": "code",
   "execution_count": 25,
   "metadata": {
    "executionInfo": {
     "elapsed": 35966,
     "status": "aborted",
     "timestamp": 1704180132934,
     "user": {
      "displayName": "pantech e learning",
      "userId": "02085171050783995221"
     },
     "user_tz": -330
    },
    "id": "Bhsqvk3qUG0U"
   },
   "outputs": [
    {
     "name": "stdout",
     "output_type": "stream",
     "text": [
      "R^2 score for liner regression:  0.9311831123809086\n"
     ]
    }
   ],
   "source": [
    "print(\"R^2 score for liner regression: \", regressor.score(X_test, y_test))"
   ]
  },
  {
   "cell_type": "code",
   "execution_count": 26,
   "metadata": {
    "executionInfo": {
     "elapsed": 35965,
     "status": "aborted",
     "timestamp": 1704180132934,
     "user": {
      "displayName": "pantech e learning",
      "userId": "02085171050783995221"
     },
     "user_tz": -330
    },
    "id": "zGm0z-d9UG0Y",
    "scrolled": true
   },
   "outputs": [
    {
     "data": {
      "image/png": "[encoded data removed]",
      "text/plain": [
       "<Figure size 640x480 with 1 Axes>"
      ]
     },
     "metadata": {},
     "output_type": "display_data"
    }
   ],
   "source": [
    "plt.scatter(y_test,y_pred,color='black')\n",
    "plt.show()"
   ]
  },
  {
   "cell_type": "markdown",
   "metadata": {
    "id": "KKnZYSG8UG0b"
   },
   "source": [
    "# Lasso regression"
   ]
  },
  {
   "cell_type": "code",
   "execution_count": 27,
   "metadata": {
    "executionInfo": {
     "elapsed": 35965,
     "status": "aborted",
     "timestamp": 1704180132934,
     "user": {
      "displayName": "pantech e learning",
      "userId": "02085171050783995221"
     },
     "user_tz": -330
    },
    "id": "gbVriJ4NUG0c"
   },
   "outputs": [],
   "source": [
    "from sklearn.linear_model import Lasso"
   ]
  },
  {
   "cell_type": "code",
   "execution_count": 28,
   "metadata": {
    "executionInfo": {
     "elapsed": 35965,
     "status": "aborted",
     "timestamp": 1704180132934,
     "user": {
      "displayName": "pantech e learning",
      "userId": "02085171050783995221"
     },
     "user_tz": -330
    },
    "id": "lK7qm1QvUG0e"
   },
   "outputs": [
    {
     "data": {
      "text/html": [
       "<style>#sk-container-id-2 {color: black;}#sk-container-id-2 pre{padding: 0;}#sk-container-id-2 div.sk-toggleable {background-color: white;}#sk-container-id-2 label.sk-toggleable__label {cursor: pointer;display: block;width: 100%;margin-bottom: 0;padding: 0.3em;box-sizing: border-box;text-align: center;}#sk-container-id-2 label.sk-toggleable__label-arrow:before {content: \"▸\";float: left;margin-right: 0.25em;color: #696969;}#sk-container-id-2 label.sk-toggleable__label-arrow:hover:before {color: black;}#sk-container-id-2 div.sk-estimator:hover label.sk-toggleable__label-arrow:before {color: black;}#sk-container-id-2 div.sk-toggleable__content {max-height: 0;max-width: 0;overflow: hidden;text-align: left;background-color: #f0f8ff;}#sk-container-id-2 div.sk-toggleable__content pre {margin: 0.2em;color: black;border-radius: 0.25em;background-color: #f0f8ff;}#sk-container-id-2 input.sk-toggleable__control:checked~div.sk-toggleable__content {max-height: 200px;max-width: 100%;overflow: auto;}#sk-container-id-2 input.sk-toggleable__control:checked~label.sk-toggleable__label-arrow:before {content: \"▾\";}#sk-container-id-2 div.sk-estimator input.sk-toggleable__control:checked~label.sk-toggleable__label {background-color: #d4ebff;}#sk-container-id-2 div.sk-label input.sk-toggleable__control:checked~label.sk-toggleable__label {background-color: #d4ebff;}#sk-container-id-2 input.sk-hidden--visually {border: 0;clip: rect(1px 1px 1px 1px);clip: rect(1px, 1px, 1px, 1px);height: 1px;margin: -1px;overflow: hidden;padding: 0;position: absolute;width: 1px;}#sk-container-id-2 div.sk-estimator {font-family: monospace;background-color: #f0f8ff;border: 1px dotted black;border-radius: 0.25em;box-sizing: border-box;margin-bottom: 0.5em;}#sk-container-id-2 div.sk-estimator:hover {background-color: #d4ebff;}#sk-container-id-2 div.sk-parallel-item::after {content: \"\";width: 100%;border-bottom: 1px solid gray;flex-grow: 1;}#sk-container-id-2 div.sk-label:hover label.sk-toggleable__label {background-color: #d4ebff;}#sk-container-id-2 div.sk-serial::before {content: \"\";position: absolute;border-left: 1px solid gray;box-sizing: border-box;top: 0;bottom: 0;left: 50%;z-index: 0;}#sk-container-id-2 div.sk-serial {display: flex;flex-direction: column;align-items: center;background-color: white;padding-right: 0.2em;padding-left: 0.2em;position: relative;}#sk-container-id-2 div.sk-item {position: relative;z-index: 1;}#sk-container-id-2 div.sk-parallel {display: flex;align-items: stretch;justify-content: center;background-color: white;position: relative;}#sk-container-id-2 div.sk-item::before, #sk-container-id-2 div.sk-parallel-item::before {content: \"\";position: absolute;border-left: 1px solid gray;box-sizing: border-box;top: 0;bottom: 0;left: 50%;z-index: -1;}#sk-container-id-2 div.sk-parallel-item {display: flex;flex-direction: column;z-index: 1;position: relative;background-color: white;}#sk-container-id-2 div.sk-parallel-item:first-child::after {align-self: flex-end;width: 50%;}#sk-container-id-2 div.sk-parallel-item:last-child::after {align-self: flex-start;width: 50%;}#sk-container-id-2 div.sk-parallel-item:only-child::after {width: 0;}#sk-container-id-2 div.sk-dashed-wrapped {border: 1px dashed gray;margin: 0 0.4em 0.5em 0.4em;box-sizing: border-box;padding-bottom: 0.4em;background-color: white;}#sk-container-id-2 div.sk-label label {font-family: monospace;font-weight: bold;display: inline-block;line-height: 1.2em;}#sk-container-id-2 div.sk-label-container {text-align: center;}#sk-container-id-2 div.sk-container {/* jupyter's `normalize.less` sets `[hidden] { display: none; }` but bootstrap.min.css set `[hidden] { display: none !important; }` so we also need the `!important` here to be able to override the default hidden behavior on the sphinx rendered scikit-learn.org. See: https://github.com/scikit-learn/scikit-learn/issues/21755 */display: inline-block !important;position: relative;}#sk-container-id-2 div.sk-text-repr-fallback {display: none;}</style><div id=\"sk-container-id-2\" class=\"sk-top-container\"><div class=\"sk-text-repr-fallback\"><pre>Lasso(alpha=0.5)</pre><b>In a Jupyter environment, please rerun this cell to show the HTML representation or trust the notebook. <br />On GitHub, the HTML representation is unable to render, please try loading this page with nbviewer.org.</b></div><div class=\"sk-container\" hidden><div class=\"sk-item\"><div class=\"sk-estimator sk-toggleable\"><input class=\"sk-toggleable__control sk-hidden--visually\" id=\"sk-estimator-id-2\" type=\"checkbox\" checked><label for=\"sk-estimator-id-2\" class=\"sk-toggleable__label sk-toggleable__label-arrow\">Lasso</label><div class=\"sk-toggleable__content\"><pre>Lasso(alpha=0.5)</pre></div></div></div></div></div>"
      ],
      "text/plain": [
       "Lasso(alpha=0.5)"
      ]
     },
     "execution_count": 28,
     "metadata": {},
     "output_type": "execute_result"
    }
   ],
   "source": [
    "a=Lasso(alpha=0.5)\n",
    "a.fit(X_train, y_train)"
   ]
  },
  {
   "cell_type": "code",
   "execution_count": 29,
   "metadata": {
    "executionInfo": {
     "elapsed": 35964,
     "status": "aborted",
     "timestamp": 1704180132934,
     "user": {
      "displayName": "pantech e learning",
      "userId": "02085171050783995221"
     },
     "user_tz": -330
    },
    "id": "uttmoY1WUG0j"
   },
   "outputs": [
    {
     "name": "stdout",
     "output_type": "stream",
     "text": [
      "R^2 on train set : 0.9141814427561035\n"
     ]
    }
   ],
   "source": [
    "print(\"R^2 on train set : {}\".format(a.score(X_train, y_train)))"
   ]
  },
  {
   "cell_type": "code",
   "execution_count": 30,
   "metadata": {
    "executionInfo": {
     "elapsed": 35965,
     "status": "aborted",
     "timestamp": 1704180132935,
     "user": {
      "displayName": "pantech e learning",
      "userId": "02085171050783995221"
     },
     "user_tz": -330
    },
    "id": "9RC8buZtUG0p"
   },
   "outputs": [
    {
     "name": "stdout",
     "output_type": "stream",
     "text": [
      "R^2 on train set : 0.9190639044651742\n"
     ]
    }
   ],
   "source": [
    "print(\"R^2 on train set : {}\".format(a.score(X_test, y_test)))"
   ]
  },
  {
   "cell_type": "code",
   "execution_count": 31,
   "metadata": {
    "executionInfo": {
     "elapsed": 35965,
     "status": "aborted",
     "timestamp": 1704180132935,
     "user": {
      "displayName": "pantech e learning",
      "userId": "02085171050783995221"
     },
     "user_tz": -330
    },
    "id": "573U6beMfBpm"
   },
   "outputs": [
    {
     "name": "stdout",
     "output_type": "stream",
     "text": [
      "5630    20.6\n",
      "8787    12.8\n",
      "1443    14.9\n",
      "1004    26.3\n",
      "9172    14.4\n",
      "        ... \n",
      "2346    30.1\n",
      "6304     9.7\n",
      "4886    18.5\n",
      "3952    30.4\n",
      "2044    22.1\n",
      "Name: T, Length: 2340, dtype: float64\n"
     ]
    }
   ],
   "source": [
    "print(y_test)"
   ]
  },
  {
   "cell_type": "code",
   "execution_count": 32,
   "metadata": {
    "executionInfo": {
     "elapsed": 35965,
     "status": "aborted",
     "timestamp": 1704180132935,
     "user": {
      "displayName": "pantech e learning",
      "userId": "02085171050783995221"
     },
     "user_tz": -330
    },
    "id": "G5U2hMFKfBpm"
   },
   "outputs": [
    {
     "name": "stdout",
     "output_type": "stream",
     "text": [
      "[[-1.04919866 -1.23259834 -1.1746212  ...  0.21407125  0.71653694\n",
      "   1.92306925]\n",
      " [ 0.29406975  0.45301708 -0.62641999 ...  1.11628602  0.1627079\n",
      "   1.25906128]\n",
      " [-0.34364353 -0.22654409  0.4908663  ... -1.40581436 -1.25721548\n",
      "  -1.6465103 ]\n",
      " ...\n",
      " [-0.58787415 -0.52646215 -0.7412812  ... -0.03491659  0.5162158\n",
      "  -0.29854129]\n",
      " [-0.16725475 -0.02533324 -0.58465228 ...  0.09104196 -0.43825552\n",
      "  -0.80166182]\n",
      " [-0.70998946 -0.68591226 -0.86136337 ...  0.17306149  1.80651962\n",
      "   0.22933116]]\n"
     ]
    }
   ],
   "source": [
    "print(X_train)"
   ]
  },
  {
   "cell_type": "markdown",
   "metadata": {
    "id": "SuGrvvZLfBpo"
   },
   "source": [
    "# Random forest"
   ]
  },
  {
   "cell_type": "code",
   "execution_count": 33,
   "metadata": {
    "executionInfo": {
     "elapsed": 35964,
     "status": "aborted",
     "timestamp": 1704180132935,
     "user": {
      "displayName": "pantech e learning",
      "userId": "02085171050783995221"
     },
     "user_tz": -330
    },
    "id": "nN9gwTvefBpo"
   },
   "outputs": [],
   "source": [
    "from sklearn.ensemble import RandomForestRegressor"
   ]
  },
  {
   "cell_type": "code",
   "execution_count": 34,
   "metadata": {
    "executionInfo": {
     "elapsed": 35964,
     "status": "aborted",
     "timestamp": 1704180132935,
     "user": {
      "displayName": "pantech e learning",
      "userId": "02085171050783995221"
     },
     "user_tz": -330
    },
    "id": "yFSgOhAkfBpo"
   },
   "outputs": [
    {
     "data": {
      "text/html": [
       "<style>#sk-container-id-3 {color: black;}#sk-container-id-3 pre{padding: 0;}#sk-container-id-3 div.sk-toggleable {background-color: white;}#sk-container-id-3 label.sk-toggleable__label {cursor: pointer;display: block;width: 100%;margin-bottom: 0;padding: 0.3em;box-sizing: border-box;text-align: center;}#sk-container-id-3 label.sk-toggleable__label-arrow:before {content: \"▸\";float: left;margin-right: 0.25em;color: #696969;}#sk-container-id-3 label.sk-toggleable__label-arrow:hover:before {color: black;}#sk-container-id-3 div.sk-estimator:hover label.sk-toggleable__label-arrow:before {color: black;}#sk-container-id-3 div.sk-toggleable__content {max-height: 0;max-width: 0;overflow: hidden;text-align: left;background-color: #f0f8ff;}#sk-container-id-3 div.sk-toggleable__content pre {margin: 0.2em;color: black;border-radius: 0.25em;background-color: #f0f8ff;}#sk-container-id-3 input.sk-toggleable__control:checked~div.sk-toggleable__content {max-height: 200px;max-width: 100%;overflow: auto;}#sk-container-id-3 input.sk-toggleable__control:checked~label.sk-toggleable__label-arrow:before {content: \"▾\";}#sk-container-id-3 div.sk-estimator input.sk-toggleable__control:checked~label.sk-toggleable__label {background-color: #d4ebff;}#sk-container-id-3 div.sk-label input.sk-toggleable__control:checked~label.sk-toggleable__label {background-color: #d4ebff;}#sk-container-id-3 input.sk-hidden--visually {border: 0;clip: rect(1px 1px 1px 1px);clip: rect(1px, 1px, 1px, 1px);height: 1px;margin: -1px;overflow: hidden;padding: 0;position: absolute;width: 1px;}#sk-container-id-3 div.sk-estimator {font-family: monospace;background-color: #f0f8ff;border: 1px dotted black;border-radius: 0.25em;box-sizing: border-box;margin-bottom: 0.5em;}#sk-container-id-3 div.sk-estimator:hover {background-color: #d4ebff;}#sk-container-id-3 div.sk-parallel-item::after {content: \"\";width: 100%;border-bottom: 1px solid gray;flex-grow: 1;}#sk-container-id-3 div.sk-label:hover label.sk-toggleable__label {background-color: #d4ebff;}#sk-container-id-3 div.sk-serial::before {content: \"\";position: absolute;border-left: 1px solid gray;box-sizing: border-box;top: 0;bottom: 0;left: 50%;z-index: 0;}#sk-container-id-3 div.sk-serial {display: flex;flex-direction: column;align-items: center;background-color: white;padding-right: 0.2em;padding-left: 0.2em;position: relative;}#sk-container-id-3 div.sk-item {position: relative;z-index: 1;}#sk-container-id-3 div.sk-parallel {display: flex;align-items: stretch;justify-content: center;background-color: white;position: relative;}#sk-container-id-3 div.sk-item::before, #sk-container-id-3 div.sk-parallel-item::before {content: \"\";position: absolute;border-left: 1px solid gray;box-sizing: border-box;top: 0;bottom: 0;left: 50%;z-index: -1;}#sk-container-id-3 div.sk-parallel-item {display: flex;flex-direction: column;z-index: 1;position: relative;background-color: white;}#sk-container-id-3 div.sk-parallel-item:first-child::after {align-self: flex-end;width: 50%;}#sk-container-id-3 div.sk-parallel-item:last-child::after {align-self: flex-start;width: 50%;}#sk-container-id-3 div.sk-parallel-item:only-child::after {width: 0;}#sk-container-id-3 div.sk-dashed-wrapped {border: 1px dashed gray;margin: 0 0.4em 0.5em 0.4em;box-sizing: border-box;padding-bottom: 0.4em;background-color: white;}#sk-container-id-3 div.sk-label label {font-family: monospace;font-weight: bold;display: inline-block;line-height: 1.2em;}#sk-container-id-3 div.sk-label-container {text-align: center;}#sk-container-id-3 div.sk-container {/* jupyter's `normalize.less` sets `[hidden] { display: none; }` but bootstrap.min.css set `[hidden] { display: none !important; }` so we also need the `!important` here to be able to override the default hidden behavior on the sphinx rendered scikit-learn.org. See: https://github.com/scikit-learn/scikit-learn/issues/21755 */display: inline-block !important;position: relative;}#sk-container-id-3 div.sk-text-repr-fallback {display: none;}</style><div id=\"sk-container-id-3\" class=\"sk-top-container\"><div class=\"sk-text-repr-fallback\"><pre>RandomForestRegressor()</pre><b>In a Jupyter environment, please rerun this cell to show the HTML representation or trust the notebook. <br />On GitHub, the HTML representation is unable to render, please try loading this page with nbviewer.org.</b></div><div class=\"sk-container\" hidden><div class=\"sk-item\"><div class=\"sk-estimator sk-toggleable\"><input class=\"sk-toggleable__control sk-hidden--visually\" id=\"sk-estimator-id-3\" type=\"checkbox\" checked><label for=\"sk-estimator-id-3\" class=\"sk-toggleable__label sk-toggleable__label-arrow\">RandomForestRegressor</label><div class=\"sk-toggleable__content\"><pre>RandomForestRegressor()</pre></div></div></div></div></div>"
      ],
      "text/plain": [
       "RandomForestRegressor()"
      ]
     },
     "execution_count": 34,
     "metadata": {},
     "output_type": "execute_result"
    }
   ],
   "source": [
    "regressor=RandomForestRegressor()\n",
    "regressor.fit(X_train,y_train)"
   ]
  },
  {
   "cell_type": "code",
   "execution_count": 35,
   "metadata": {
    "executionInfo": {
     "elapsed": 35964,
     "status": "aborted",
     "timestamp": 1704180132935,
     "user": {
      "displayName": "pantech e learning",
      "userId": "02085171050783995221"
     },
     "user_tz": -330
    },
    "id": "434IUzgofBpp"
   },
   "outputs": [
    {
     "name": "stdout",
     "output_type": "stream",
     "text": [
      "Coefficient of determination R^2 <-- on train set: 0.9998745642411311\n"
     ]
    }
   ],
   "source": [
    "print(\"Coefficient of determination R^2 <-- on train set: {}\".format(regressor.score(X_train, y_train)))"
   ]
  },
  {
   "cell_type": "code",
   "execution_count": 36,
   "metadata": {
    "executionInfo": {
     "elapsed": 35965,
     "status": "aborted",
     "timestamp": 1704180132936,
     "user": {
      "displayName": "pantech e learning",
      "userId": "02085171050783995221"
     },
     "user_tz": -330
    },
    "id": "lhYUbiAJfBpp"
   },
   "outputs": [
    {
     "name": "stdout",
     "output_type": "stream",
     "text": [
      "Coefficient of determination R^2 <-- on train set: 0.9991553326050701\n"
     ]
    }
   ],
   "source": [
    "print(\"Coefficient of determination R^2 <-- on train set: {}\".format(regressor.score(X_test, y_test)))"
   ]
  },
  {
   "cell_type": "code",
   "execution_count": 37,
   "metadata": {
    "executionInfo": {
     "elapsed": 35963,
     "status": "aborted",
     "timestamp": 1704180132936,
     "user": {
      "displayName": "pantech e learning",
      "userId": "02085171050783995221"
     },
     "user_tz": -330
    },
    "id": "Hsm630LVfBpq"
   },
   "outputs": [],
   "source": [
    "from sklearn.model_selection import cross_val_score\n",
    "score=cross_val_score(regressor,X_train,y_train,cv=5)"
   ]
  },
  {
   "cell_type": "code",
   "execution_count": 38,
   "metadata": {
    "executionInfo": {
     "elapsed": 35962,
     "status": "aborted",
     "timestamp": 1704180132936,
     "user": {
      "displayName": "pantech e learning",
      "userId": "02085171050783995221"
     },
     "user_tz": -330
    },
    "id": "iJMjv7RZfBpq"
   },
   "outputs": [
    {
     "data": {
      "text/plain": [
       "0.9989435411246316"
      ]
     },
     "execution_count": 38,
     "metadata": {},
     "output_type": "execute_result"
    }
   ],
   "source": [
    "score.mean()"
   ]
  },
  {
   "cell_type": "markdown",
   "metadata": {
    "id": "ivNtkHURfBpr"
   },
   "source": [
    "# Model evaluation"
   ]
  },
  {
   "cell_type": "code",
   "execution_count": 39,
   "metadata": {
    "executionInfo": {
     "elapsed": 35962,
     "status": "aborted",
     "timestamp": 1704180132936,
     "user": {
      "displayName": "pantech e learning",
      "userId": "02085171050783995221"
     },
     "user_tz": -330
    },
    "id": "konDrNWKfBpr"
   },
   "outputs": [],
   "source": [
    "prediction=regressor.predict(X_test)"
   ]
  },
  {
   "cell_type": "code",
   "execution_count": 40,
   "metadata": {
    "executionInfo": {
     "elapsed": 35962,
     "status": "aborted",
     "timestamp": 1704180132936,
     "user": {
      "displayName": "pantech e learning",
      "userId": "02085171050783995221"
     },
     "user_tz": -330
    },
    "id": "xkxQa1ghfBps"
   },
   "outputs": [
    {
     "name": "stderr",
     "output_type": "stream",
     "text": [
      "C:\\Users\\vigne\\AppData\\Local\\Temp\\ipykernel_21968\\382743513.py:2: UserWarning: \n",
      "\n",
      "`distplot` is a deprecated function and will be removed in seaborn v0.14.0.\n",
      "\n",
      "Please adapt your code to use either `displot` (a figure-level function with\n",
      "similar flexibility) or `histplot` (an axes-level function for histograms).\n",
      "\n",
      "For a guide to updating your code to use the new functions, please see\n",
      "https://gist.github.com/mwaskom/de44147ed2974457ad6372750bbe5751\n",
      "\n",
      "  sns.distplot(y_test-prediction)\n"
     ]
    },
    {
     "data": {
      "text/plain": [
       "<Axes: xlabel='T', ylabel='Density'>"
      ]
     },
     "execution_count": 40,
     "metadata": {},
     "output_type": "execute_result"
    },
    {
     "data": {
      "image/png": "[encoded data removed]",
      "text/plain": [
       "<Figure size 640x480 with 1 Axes>"
      ]
     },
     "metadata": {},
     "output_type": "display_data"
    }
   ],
   "source": [
    "import seaborn as sns\n",
    "sns.distplot(y_test-prediction)"
   ]
  },
  {
   "cell_type": "code",
   "execution_count": 41,
   "metadata": {
    "executionInfo": {
     "elapsed": 35962,
     "status": "aborted",
     "timestamp": 1704180132936,
     "user": {
      "displayName": "pantech e learning",
      "userId": "02085171050783995221"
     },
     "user_tz": -330
    },
    "id": "4zTOsVoCfBps"
   },
   "outputs": [
    {
     "data": {
      "text/plain": [
       "<matplotlib.collections.PathCollection at 0x29d1ff28e50>"
      ]
     },
     "execution_count": 41,
     "metadata": {},
     "output_type": "execute_result"
    },
    {
     "data": {
      "image/png": "[encoded data removed]",
      "text/plain": [
       "<Figure size 640x480 with 1 Axes>"
      ]
     },
     "metadata": {},
     "output_type": "display_data"
    }
   ],
   "source": [
    "plt.scatter(y_test,prediction)"
   ]
  },
  {
   "cell_type": "markdown",
   "metadata": {
    "id": "XGX9kZmdfBpu"
   },
   "source": [
    "# SVR"
   ]
  },
  {
   "cell_type": "code",
   "execution_count": 42,
   "metadata": {
    "executionInfo": {
     "elapsed": 35962,
     "status": "aborted",
     "timestamp": 1704180132937,
     "user": {
      "displayName": "pantech e learning",
      "userId": "02085171050783995221"
     },
     "user_tz": -330
    },
    "id": "qYP0QrvbfBpu"
   },
   "outputs": [
    {
     "name": "stdout",
     "output_type": "stream",
     "text": [
      "[20.68158414 12.54799692 14.79812915 ... 18.62294444 30.403341\n",
      " 21.8558888 ]\n"
     ]
    }
   ],
   "source": [
    "from sklearn.svm import SVR\n",
    "svr=SVR(kernel = 'rbf').fit(X_train,y_train)\n",
    "svr_prediction = svr.predict(X_test)\n",
    "print(svr_prediction)"
   ]
  },
  {
   "cell_type": "code",
   "execution_count": 43,
   "metadata": {
    "executionInfo": {
     "elapsed": 35962,
     "status": "aborted",
     "timestamp": 1704180132937,
     "user": {
      "displayName": "pantech e learning",
      "userId": "02085171050783995221"
     },
     "user_tz": -330
    },
    "id": "iA3yYp7CfBpv"
   },
   "outputs": [],
   "source": [
    "def kfolds(model, model_name):\n",
    "    model = cross_val_score(model, X_train,y_train, cv=10)\n",
    "    model_score = np.average(model)\n",
    "    print(f\"{model_name} score on cross validation: {model_score * 100}%\")\n",
    "def train(model, model_name):\n",
    "    model.fit(X_train, y_train)\n",
    "    model_train_score = model.score(X_train, y_train)\n",
    "    model_test_score = model.score(X_test, y_test)\n",
    "    print(f\"{model_name} model score on Training data: {model_train_score * 100}%\\n{model_name} model score on Testing data: {model_test_score * 100}%\")\n",
    "def r2(model, model_name):\n",
    "    score = r2_score(y_test, model.predict(X_test))\n",
    "    print(f\"R2 Score for {model_name} is {score * 100}%\")"
   ]
  },
  {
   "cell_type": "code",
   "execution_count": 44,
   "metadata": {
    "executionInfo": {
     "elapsed": 35961,
     "status": "aborted",
     "timestamp": 1704180132937,
     "user": {
      "displayName": "pantech e learning",
      "userId": "02085171050783995221"
     },
     "user_tz": -330
    },
    "id": "iQ8xKNDmfBpv"
   },
   "outputs": [
    {
     "name": "stdout",
     "output_type": "stream",
     "text": [
      "SVR score on cross validation: 87.55396544233325%\n",
      "SVR model score on Training data: 88.73273355161983%\n",
      "SVR model score on Testing data: 88.9841599800581%\n"
     ]
    }
   ],
   "source": [
    "svr = SVR(gamma='auto', kernel='poly', C=15)\n",
    "kfolds(svr, \"SVR\")\n",
    "train(svr, \"SVR\")"
   ]
  },
  {
   "cell_type": "code",
   "execution_count": 45,
   "metadata": {
    "executionInfo": {
     "elapsed": 35961,
     "status": "aborted",
     "timestamp": 1704180132937,
     "user": {
      "displayName": "pantech e learning",
      "userId": "02085171050783995221"
     },
     "user_tz": -330
    },
    "id": "sZystdxJfBpv"
   },
   "outputs": [
    {
     "name": "stdout",
     "output_type": "stream",
     "text": [
      "R2 Score for SVM is 88.9841599800581%\n"
     ]
    }
   ],
   "source": [
    "from sklearn.metrics import r2_score\n",
    "r2(svr, \"SVM\")"
   ]
  },
  {
   "cell_type": "markdown",
   "metadata": {},
   "source": [
    "# GradientBoostingRegressor"
   ]
  },
  {
   "cell_type": "code",
   "execution_count": 46,
   "metadata": {},
   "outputs": [],
   "source": [
    "from sklearn.ensemble import GradientBoostingRegressor\n",
    "from sklearn.metrics import r2_score\n",
    "\n",
    "# Initialize the Gradient Boosting model with appropriate hyperparameters\n",
    "gb_regressor = GradientBoostingRegressor(n_estimators=100, learning_rate=0.1, max_depth=3, random_state=42)\n"
   ]
  },
  {
   "cell_type": "code",
   "execution_count": 47,
   "metadata": {},
   "outputs": [],
   "source": [
    "# Fit the Gradient Boosting model on the training data\n",
    "gb_regressor.fit(X_train, y_train)\n",
    "\n",
    "# Predict the target variable on the test set\n",
    "y_pred_gb = gb_regressor.predict(X_test)"
   ]
  },
  {
   "cell_type": "code",
   "execution_count": 48,
   "metadata": {},
   "outputs": [
    {
     "name": "stdout",
     "output_type": "stream",
     "text": [
      "Accuracy of the Gradient Boosting algorithm: 1.00\n"
     ]
    }
   ],
   "source": [
    "# Calculate the R-squared score\n",
    "accuracy_gb = r2_score(y_test, y_pred_gb)\n",
    "\n",
    "print(\"Accuracy of the Gradient Boosting algorithm: {:.2f}\".format(accuracy_gb))"
   ]
  },
  {
   "cell_type": "markdown",
   "metadata": {
    "id": "Q-mZdBdLUG0s"
   },
   "source": [
    "# decision tree regression"
   ]
  },
  {
   "cell_type": "code",
   "execution_count": 49,
   "metadata": {
    "executionInfo": {
     "elapsed": 35962,
     "status": "aborted",
     "timestamp": 1704180132938,
     "user": {
      "displayName": "pantech e learning",
      "userId": "02085171050783995221"
     },
     "user_tz": -330
    },
    "id": "0ASlW2OZUG0s"
   },
   "outputs": [],
   "source": [
    "from sklearn.tree import DecisionTreeRegressor"
   ]
  },
  {
   "cell_type": "code",
   "execution_count": 50,
   "metadata": {
    "executionInfo": {
     "elapsed": 35961,
     "status": "aborted",
     "timestamp": 1704180132938,
     "user": {
      "displayName": "pantech e learning",
      "userId": "02085171050783995221"
     },
     "user_tz": -330
    },
    "id": "Gxx8uO6IUG0v"
   },
   "outputs": [
    {
     "data": {
      "text/html": [
       "<style>#sk-container-id-4 {color: black;}#sk-container-id-4 pre{padding: 0;}#sk-container-id-4 div.sk-toggleable {background-color: white;}#sk-container-id-4 label.sk-toggleable__label {cursor: pointer;display: block;width: 100%;margin-bottom: 0;padding: 0.3em;box-sizing: border-box;text-align: center;}#sk-container-id-4 label.sk-toggleable__label-arrow:before {content: \"▸\";float: left;margin-right: 0.25em;color: #696969;}#sk-container-id-4 label.sk-toggleable__label-arrow:hover:before {color: black;}#sk-container-id-4 div.sk-estimator:hover label.sk-toggleable__label-arrow:before {color: black;}#sk-container-id-4 div.sk-toggleable__content {max-height: 0;max-width: 0;overflow: hidden;text-align: left;background-color: #f0f8ff;}#sk-container-id-4 div.sk-toggleable__content pre {margin: 0.2em;color: black;border-radius: 0.25em;background-color: #f0f8ff;}#sk-container-id-4 input.sk-toggleable__control:checked~div.sk-toggleable__content {max-height: 200px;max-width: 100%;overflow: auto;}#sk-container-id-4 input.sk-toggleable__control:checked~label.sk-toggleable__label-arrow:before {content: \"▾\";}#sk-container-id-4 div.sk-estimator input.sk-toggleable__control:checked~label.sk-toggleable__label {background-color: #d4ebff;}#sk-container-id-4 div.sk-label input.sk-toggleable__control:checked~label.sk-toggleable__label {background-color: #d4ebff;}#sk-container-id-4 input.sk-hidden--visually {border: 0;clip: rect(1px 1px 1px 1px);clip: rect(1px, 1px, 1px, 1px);height: 1px;margin: -1px;overflow: hidden;padding: 0;position: absolute;width: 1px;}#sk-container-id-4 div.sk-estimator {font-family: monospace;background-color: #f0f8ff;border: 1px dotted black;border-radius: 0.25em;box-sizing: border-box;margin-bottom: 0.5em;}#sk-container-id-4 div.sk-estimator:hover {background-color: #d4ebff;}#sk-container-id-4 div.sk-parallel-item::after {content: \"\";width: 100%;border-bottom: 1px solid gray;flex-grow: 1;}#sk-container-id-4 div.sk-label:hover label.sk-toggleable__label {background-color: #d4ebff;}#sk-container-id-4 div.sk-serial::before {content: \"\";position: absolute;border-left: 1px solid gray;box-sizing: border-box;top: 0;bottom: 0;left: 50%;z-index: 0;}#sk-container-id-4 div.sk-serial {display: flex;flex-direction: column;align-items: center;background-color: white;padding-right: 0.2em;padding-left: 0.2em;position: relative;}#sk-container-id-4 div.sk-item {position: relative;z-index: 1;}#sk-container-id-4 div.sk-parallel {display: flex;align-items: stretch;justify-content: center;background-color: white;position: relative;}#sk-container-id-4 div.sk-item::before, #sk-container-id-4 div.sk-parallel-item::before {content: \"\";position: absolute;border-left: 1px solid gray;box-sizing: border-box;top: 0;bottom: 0;left: 50%;z-index: -1;}#sk-container-id-4 div.sk-parallel-item {display: flex;flex-direction: column;z-index: 1;position: relative;background-color: white;}#sk-container-id-4 div.sk-parallel-item:first-child::after {align-self: flex-end;width: 50%;}#sk-container-id-4 div.sk-parallel-item:last-child::after {align-self: flex-start;width: 50%;}#sk-container-id-4 div.sk-parallel-item:only-child::after {width: 0;}#sk-container-id-4 div.sk-dashed-wrapped {border: 1px dashed gray;margin: 0 0.4em 0.5em 0.4em;box-sizing: border-box;padding-bottom: 0.4em;background-color: white;}#sk-container-id-4 div.sk-label label {font-family: monospace;font-weight: bold;display: inline-block;line-height: 1.2em;}#sk-container-id-4 div.sk-label-container {text-align: center;}#sk-container-id-4 div.sk-container {/* jupyter's `normalize.less` sets `[hidden] { display: none; }` but bootstrap.min.css set `[hidden] { display: none !important; }` so we also need the `!important` here to be able to override the default hidden behavior on the sphinx rendered scikit-learn.org. See: https://github.com/scikit-learn/scikit-learn/issues/21755 */display: inline-block !important;position: relative;}#sk-container-id-4 div.sk-text-repr-fallback {display: none;}</style><div id=\"sk-container-id-4\" class=\"sk-top-container\"><div class=\"sk-text-repr-fallback\"><pre>DecisionTreeRegressor()</pre><b>In a Jupyter environment, please rerun this cell to show the HTML representation or trust the notebook. <br />On GitHub, the HTML representation is unable to render, please try loading this page with nbviewer.org.</b></div><div class=\"sk-container\" hidden><div class=\"sk-item\"><div class=\"sk-estimator sk-toggleable\"><input class=\"sk-toggleable__control sk-hidden--visually\" id=\"sk-estimator-id-4\" type=\"checkbox\" checked><label for=\"sk-estimator-id-4\" class=\"sk-toggleable__label sk-toggleable__label-arrow\">DecisionTreeRegressor</label><div class=\"sk-toggleable__content\"><pre>DecisionTreeRegressor()</pre></div></div></div></div></div>"
      ],
      "text/plain": [
       "DecisionTreeRegressor()"
      ]
     },
     "execution_count": 50,
     "metadata": {},
     "output_type": "execute_result"
    }
   ],
   "source": [
    "dtr = DecisionTreeRegressor()\n",
    "dtr.fit(X_train, y_train)"
   ]
  },
  {
   "cell_type": "code",
   "execution_count": 51,
   "metadata": {
    "executionInfo": {
     "elapsed": 5,
     "status": "aborted",
     "timestamp": 1704180133566,
     "user": {
      "displayName": "pantech e learning",
      "userId": "02085171050783995221"
     },
     "user_tz": -330
    },
    "id": "cZ_zdQ-mUG08"
   },
   "outputs": [
    {
     "name": "stdout",
     "output_type": "stream",
     "text": [
      "Predicted values: [20.4 12.9 14.8 ... 18.1 31.3 22.1]\n"
     ]
    },
    {
     "data": {
      "text/plain": [
       "(2340,)"
      ]
     },
     "execution_count": 51,
     "metadata": {},
     "output_type": "execute_result"
    }
   ],
   "source": [
    "print(\"Predicted values:\", dtr.predict(X_test))\n",
    "ds = dtr.predict(X_test)\n",
    "ds.shape\n"
   ]
  },
  {
   "cell_type": "code",
   "execution_count": 52,
   "metadata": {
    "executionInfo": {
     "elapsed": 5,
     "status": "aborted",
     "timestamp": 1704180133567,
     "user": {
      "displayName": "pantech e learning",
      "userId": "02085171050783995221"
     },
     "user_tz": -330
    },
    "id": "jE6g6qFAUG0z"
   },
   "outputs": [
    {
     "name": "stdout",
     "output_type": "stream",
     "text": [
      "Coefficient of determination R^2 <-- on train set: 1.0\n"
     ]
    }
   ],
   "source": [
    "print(\"Coefficient of determination R^2 <-- on train set: {}\".format(dtr.score(X_train, y_train)))"
   ]
  },
  {
   "cell_type": "code",
   "execution_count": 53,
   "metadata": {
    "executionInfo": {
     "elapsed": 5,
     "status": "aborted",
     "timestamp": 1704180133567,
     "user": {
      "displayName": "pantech e learning",
      "userId": "02085171050783995221"
     },
     "user_tz": -330
    },
    "id": "Uy_U1CXaUG04"
   },
   "outputs": [
    {
     "name": "stdout",
     "output_type": "stream",
     "text": [
      "Coefficient of determination R^2 <-- on train set: 0.9965376892871929\n"
     ]
    }
   ],
   "source": [
    "print(\"Coefficient of determination R^2 <-- on train set: {}\".format(dtr.score(X_test, y_test)))"
   ]
  },
  {
   "cell_type": "code",
   "execution_count": 54,
   "metadata": {
    "executionInfo": {
     "elapsed": 5,
     "status": "aborted",
     "timestamp": 1704180133567,
     "user": {
      "displayName": "pantech e learning",
      "userId": "02085171050783995221"
     },
     "user_tz": -330
    },
    "id": "i4MdwCDgfBpy"
   },
   "outputs": [
    {
     "data": {
      "image/png": "[encoded data removed]",
      "text/plain": [
       "<Figure size 640x480 with 1 Axes>"
      ]
     },
     "metadata": {},
     "output_type": "display_data"
    }
   ],
   "source": [
    "plt.scatter(y_test,ds,color='green')\n",
    "plt.show()"
   ]
  },
  {
   "cell_type": "code",
   "execution_count": 55,
   "metadata": {
    "executionInfo": {
     "elapsed": 4,
     "status": "aborted",
     "timestamp": 1704180133567,
     "user": {
      "displayName": "pantech e learning",
      "userId": "02085171050783995221"
     },
     "user_tz": -330
    },
    "id": "7hi6dgBJfBpy"
   },
   "outputs": [],
   "source": [
    "import pickle\n",
    "pickle.dump(dtr, open('dtr.pkl','wb'))"
   ]
  },
  {
   "cell_type": "code",
   "execution_count": 57,
   "metadata": {
    "executionInfo": {
     "elapsed": 4,
     "status": "aborted",
     "timestamp": 1704180133567,
     "user": {
      "displayName": "pantech e learning",
      "userId": "02085171050783995221"
     },
     "user_tz": -330
    },
    "id": "XZcMC5FgfBpy"
   },
   "outputs": [
    {
     "name": "stdout",
     "output_type": "stream",
     "text": [
      "Not Affected BY air pollution\n"
     ]
    }
   ],
   "source": [
    "test_data = dtr.predict(([[2.8,639.0,51.000000,1260.0,48.000000,1364.0,61.1,1.0075]]))\n",
    "if test_data[0] == 1:\n",
    "    print(\"Affected by air pollution\")\n",
    "else:\n",
    "    print(\"Not Affected BY air pollution\")"
   ]
  },
  {
   "cell_type": "code",
   "execution_count": null,
   "metadata": {
    "executionInfo": {
     "elapsed": 4,
     "status": "aborted",
     "timestamp": 1704180133567,
     "user": {
      "displayName": "pantech e learning",
      "userId": "02085171050783995221"
     },
     "user_tz": -330
    },
    "id": "UdyRTwOIfBpz"
   },
   "outputs": [],
   "source": []
  },
  {
   "cell_type": "code",
   "execution_count": null,
   "metadata": {
    "executionInfo": {
     "elapsed": 4,
     "status": "aborted",
     "timestamp": 1704180133567,
     "user": {
      "displayName": "pantech e learning",
      "userId": "02085171050783995221"
     },
     "user_tz": -330
    },
    "id": "oiG76izBfBpz"
   },
   "outputs": [],
   "source": [
    "\n"
   ]
  }
 ],
 "metadata": {
  "colab": {
   "provenance": []
  },
  "kernelspec": {
   "display_name": "Python 3 (ipykernel)",
   "language": "python",
   "name": "python3"
  },
  "language_info": {
   "codemirror_mode": {
    "name": "ipython",
    "version": 3
   },
   "file_extension": ".py",
   "mimetype": "text/x-python",
   "name": "python",
   "nbconvert_exporter": "python",
   "pygments_lexer": "ipython3",
   "version": "3.11.5"
  },
  "vscode": {
   "interpreter": {
    "hash": "bf4fbbcfb44b62809ee9ef976aff62d8f85ac4ea82e40788fda9594addf376e6"
   }
  }
 },
 "nbformat": 4,
 "nbformat_minor": 1
}
