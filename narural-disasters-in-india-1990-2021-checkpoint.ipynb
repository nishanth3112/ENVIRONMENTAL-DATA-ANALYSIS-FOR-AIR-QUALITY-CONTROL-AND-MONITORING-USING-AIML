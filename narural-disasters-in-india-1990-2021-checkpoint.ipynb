{
 "cells": [
  {
   "cell_type": "code",
   "execution_count": 1,
   "metadata": {
    "_cell_guid": "b1076dfc-b9ad-4769-8c92-a6c4dae69d19",
    "_uuid": "8f2839f25d086af736a60e9eeb907d3b93b6e0e5",
    "execution": {
     "iopub.execute_input": "2021-11-02T05:29:59.016707Z",
     "iopub.status.busy": "2021-11-02T05:29:59.016429Z",
     "iopub.status.idle": "2021-11-02T05:29:59.02379Z",
     "shell.execute_reply": "2021-11-02T05:29:59.023111Z",
     "shell.execute_reply.started": "2021-11-02T05:29:59.016678Z"
    }
   },
   "outputs": [],
   "source": [
    "import numpy as np \n",
    "import pandas as pd \n"
   ]
  },
  {
   "cell_type": "markdown",
   "metadata": {},
   "source": []
  },
  {
   "cell_type": "markdown",
   "metadata": {},
   "source": [
    "# Import libraries"
   ]
  },
  {
   "cell_type": "code",
   "execution_count": 2,
   "metadata": {
    "execution": {
     "iopub.execute_input": "2021-11-02T05:48:12.357951Z",
     "iopub.status.busy": "2021-11-02T05:48:12.357059Z",
     "iopub.status.idle": "2021-11-02T05:48:12.364324Z",
     "shell.execute_reply": "2021-11-02T05:48:12.363467Z",
     "shell.execute_reply.started": "2021-11-02T05:48:12.357897Z"
    }
   },
   "outputs": [],
   "source": [
    "import numpy as np\n",
    "import pandas as pd\n",
    "import matplotlib.pyplot as plt\n",
    "import seaborn as sns"
   ]
  },
  {
   "cell_type": "markdown",
   "metadata": {},
   "source": [
    "#  Load the dataset"
   ]
  },
  {
   "cell_type": "code",
   "execution_count": 3,
   "metadata": {
    "execution": {
     "iopub.execute_input": "2021-11-02T06:10:55.81346Z",
     "iopub.status.busy": "2021-11-02T06:10:55.812427Z",
     "iopub.status.idle": "2021-11-02T06:10:55.8474Z",
     "shell.execute_reply": "2021-11-02T06:10:55.846318Z",
     "shell.execute_reply.started": "2021-11-02T06:10:55.813402Z"
    }
   },
   "outputs": [],
   "source": [
    "dataf = pd.read_csv('Natural_Disasters_in_India .csv')"
   ]
  },
  {
   "cell_type": "code",
   "execution_count": 4,
   "metadata": {
    "execution": {
     "iopub.execute_input": "2021-11-02T07:58:32.757632Z",
     "iopub.status.busy": "2021-11-02T07:58:32.756632Z",
     "iopub.status.idle": "2021-11-02T07:58:32.772277Z",
     "shell.execute_reply": "2021-11-02T07:58:32.771607Z",
     "shell.execute_reply.started": "2021-11-02T07:58:32.757565Z"
    }
   },
   "outputs": [
    {
     "data": {
      "text/html": [
       "<style type=\"text/css\">\n",
       "#T_0b172_row0_col0, #T_0b172_row0_col1, #T_0b172_row0_col2, #T_0b172_row0_col3, #T_0b172_row0_col4, #T_0b172_row0_col5, #T_0b172_row1_col0, #T_0b172_row1_col1, #T_0b172_row1_col2, #T_0b172_row1_col3, #T_0b172_row1_col4, #T_0b172_row1_col5, #T_0b172_row2_col0, #T_0b172_row2_col1, #T_0b172_row2_col2, #T_0b172_row2_col3, #T_0b172_row2_col4, #T_0b172_row2_col5, #T_0b172_row3_col0, #T_0b172_row3_col1, #T_0b172_row3_col2, #T_0b172_row3_col3, #T_0b172_row3_col4, #T_0b172_row3_col5, #T_0b172_row4_col0, #T_0b172_row4_col1, #T_0b172_row4_col2, #T_0b172_row4_col3, #T_0b172_row4_col4, #T_0b172_row4_col5 {\n",
       "  background-color: #99DDCC;\n",
       "  color: black;\n",
       "  border-color: black;\n",
       "}\n",
       "</style>\n",
       "<table id=\"T_0b172\">\n",
       "  <thead>\n",
       "    <tr>\n",
       "      <th class=\"blank level0\" >&nbsp;</th>\n",
       "      <th id=\"T_0b172_level0_col0\" class=\"col_heading level0 col0\" >Unnamed: 0</th>\n",
       "      <th id=\"T_0b172_level0_col1\" class=\"col_heading level0 col1\" >Title</th>\n",
       "      <th id=\"T_0b172_level0_col2\" class=\"col_heading level0 col2\" >Duration</th>\n",
       "      <th id=\"T_0b172_level0_col3\" class=\"col_heading level0 col3\" >Year</th>\n",
       "      <th id=\"T_0b172_level0_col4\" class=\"col_heading level0 col4\" >Disaster_Info</th>\n",
       "      <th id=\"T_0b172_level0_col5\" class=\"col_heading level0 col5\" >Date</th>\n",
       "    </tr>\n",
       "  </thead>\n",
       "  <tbody>\n",
       "    <tr>\n",
       "      <th id=\"T_0b172_level0_row0\" class=\"row_heading level0 row0\" >0</th>\n",
       "      <td id=\"T_0b172_row0_col0\" class=\"data row0 col0\" >0</td>\n",
       "      <td id=\"T_0b172_row0_col1\" class=\"data row0 col1\" >1990 Andhra Pradesh cyclone</td>\n",
       "      <td id=\"T_0b172_row0_col2\" class=\"data row0 col2\" >4 May</td>\n",
       "      <td id=\"T_0b172_row0_col3\" class=\"data row0 col3\" >1990</td>\n",
       "      <td id=\"T_0b172_row0_col4\" class=\"data row0 col4\" >the  andhra pradesh cyclone or the  machilipatnam cyclone was the worst disaster to affect southern india since the  andhra pradesh cyclone the system was first noted as a depression on  may  while it was located over the bay of bengal about  km  mi to the southeast of chennai india during the next day the depression intensified into a cyclonic storm and started to intensify rapidly becoming a super cyclonic storm early on  may the cyclone weakened slightly before it made landfall on india about  km  mi to the north of madras in the andhra pradesh state as a very severe cyclonic storm with winds of  kmh  mph while over land the cyclone gradually dissipated the cyclone had a severe impact on india with over  people reported to have been killed over  animals also died in the cyclone with the total cost of damages to crops estimated at over  million  usdon  may  the india meteorological department imd reported that a depression had developed over the bay of bengal about  km  mi to the southeast of chennai india during that day the system gradually developed further and became the subject of a tropical cyclone formation alert by the joint typhoon warning center as it moved westwards under the influence of the subtropical ridge of high pressure the depression subsequently intensified into a cyclonic storm early the next day before the jtwc initiated advisories on the system and designated it as tropical cyclone  later that day at this stage the jtwc only expected the cyclone to intensify marginally before it weakened as it made landfall in southern india within  hours during  may the system started to move more towards the northwest because of a weakness in the subtropical ridge as it continued to intensify and became a very severe cyclonic storm this turn towards the northwest turned out to be more northerly than had been expected which as a result allowed the system to stay offshore for longer than had been expected by the jtwcover the next couple of days the system rapidly intensified before the jtwc reported early on  may that the system had peaked with  sustained windspeeds of  kmh  mph which made the system equivalent to a category  hurricane on the saffir–simpson hurricane wind scale at around the same time the imd also reported that the cyclone had peaked as a super cyclonic storm with  sustained wind speeds of  kmh  mph and an estimated central pressure of  hpa  inhg by this time the system was located about  km  mi to the northeast of madras and was moving northwards slowly later that day as the ship visvamohini moved through the systems eye region it measured a central pressure of  hpa  inhg which the imd reported would be one of the lowest central pressures ever measured in the bay of bengal if it was correct the system subsequently started to weaken and had become a very severe cyclonic storm by the time it made landfall during  may near the mouth of the krishna river in southern andhra pradesh the system subsequently moved northwestwards and gradually weakened further before it was last noted during  may by both the imd and jtwcas a result of timely warnings issued by the imd the indian government was able to launch an evacuation campaign and order that all fisherman return to shore this led to more than  people being evacuated to relief camps which had been set up on higher ground due to the thorough preparations there was fewer deaths than in the  andhra pradesh cycloneon edurumondi island over  people were left stranded after they refused to evacuate the island itself was reported to have experienced the full brunt of the system however all of the residents reportedly sought protection within a shelter provided by the government the cyclone had a significant effect on india with storm surge tides as high as  meters  ft above normal consequently over  villages were submerged in water and destroyed at least  people were killed by the cyclone most of the deaths occurred when houses made mostly out of mud and straw collapsed other people were killed when electrical wires were knocked down and while some people were carried away by flooded rivers the storm left at least  million people homeless while over  farm animals were killed at least  acres   of rice paddies were destroyed along with huge tracts of mango and banana trees the total damage to crops and property was estimated at over  million  usd the cyclone was described as the worst disaster in southern india since the  storm sea water contaminated fresh drinking wells prompting warnings about outbreaks of cholera and typhoid as many people were drinking and cooking with water from the drains which was causing stomach disordersoverall the cyclone only caused minor damage to tamil nadu with the worst affected area being the district of chengalpattu where one of the old shrines of kasiviswanathar temple collapsed as high waves hit the coast a large number of huts were also washed away by the waves while six deaths were reported in the stateon  may two days after the cyclone had hit the indian government launched a massive relief and rescue operation the indian army and naval helicopters took surveys of areas affected by the cyclone and also dropped food packets although the indian government did not request international assistance the red cross provided food oil medicines and water tanks for the affected families the wcccicarws issued an appeal for   usd so they could provide immediate needs with world vision providing   usd for food blankets and utensils</td>\n",
       "      <td id=\"T_0b172_row0_col5\" class=\"data row0 col5\" >1990-05-04</td>\n",
       "    </tr>\n",
       "    <tr>\n",
       "      <th id=\"T_0b172_level0_row1\" class=\"row_heading level0 row1\" >1</th>\n",
       "      <td id=\"T_0b172_row1_col0\" class=\"data row1 col0\" >1</td>\n",
       "      <td id=\"T_0b172_row1_col1\" class=\"data row1 col1\" >Indian Airlines Flight 605</td>\n",
       "      <td id=\"T_0b172_row1_col2\" class=\"data row1 col2\" >14 February</td>\n",
       "      <td id=\"T_0b172_row1_col3\" class=\"data row1 col3\" >1990</td>\n",
       "      <td id=\"T_0b172_row1_col4\" class=\"data row1 col4\" >indian airlines flight  was a scheduled domestic passenger flight from bombay to bangalore on  february  an airbus  registered as vtepn crashed onto a golf course while attempting to land at bangalore killing  of  people on boardthe indian investigative team ruled that the probable cause was the pilots selecting the open descentflight idle control mode rather than glideslope capture allowing the aircraft to sink far below the correct flight path they further failed to advance the throttles or pull up even after the radio altitude callouts as the aircraft approached landing the report stated that the crew of flight  weren’t aware of the situation and the danger they were facing at the time resulting in delayed reaction during the descentafter the crash the indian investigation committee issued  recommendations to the indian directorate general of civil aviation dgca including a time recording on the air traffic control atc tapes and the formation of several investigative committees specializing in several aviation operational issues included in the recommendation was the addition of a crash siren in bangalore evaluation of the evacuation doors and slides in airbus airplanes and a design change on their instrument knob the report also urged the government to evaluate every airport in india to prevent similar incidents from occurringthe crash drew criticism among the indian commercial pilot association icpa which claimed that the airbus  had severe flaws they claimed that the aircrafts systems were too confusing and that the crew of flight  was struggling to avert the crashanother  accident less than two years later which occurred under similar circumstances led to design improvements to the flight control unit and numerous safety recommendationsflight  took off from bombay airport at  local time after an hour delay prior to this the aircraft was used for two other flights on the day of the accident operating as flight  and flight  flying from bombay to goa and back the aircraft was an airbus  registered in india as vtepn first delivered to indian airlines on  december  carrying  passengers and  crew members including  infants the aircrafts assigned route was on route  from bombay to belgaum via karad and  from belgaum to bangalore the takeoff phase and en route phase proceeded normallyat  local time flight  radar plot appeared on bangalores radar flight  was asked by bangalore radar to turn right and make a visual approach to runway  the crew disengaged the autopilot and later changed to the bangalore tower after being transferred by bangalore radarwhile flight  was attempting to land the pilots flew far below the glideslope and the landing gear touched down on the grounds of the karnataka golf club approximately  ft from the airport most people on the aircraft including some crew members thought that the aircraft had touched down on the runway as it was similar to its normal landing flight  then bounced and shortly later impacted the ground for the second time the impact caused several peoples seat belts to fail leading people to be thrown from their seats and hit the aircrafts floor flight  later struck a  embankment both the engines and landing gear detached from the aircraft the aircraft then flew over a road and crashed into a grassy rocky area near the airportafter the crash a postimpact fire started and the survivors began to escape from the burning wreckage several people managed to get out of the plane from an opening in the aircrafts fuselage the surviving cabin crew opened the emergency door on the airplane and began to evacuate the survivors   people consisting of  passengers and  crew perished in the crash while  survived all with injuries two people succumbed to their injuries after the accidentaccording to eyewitnesses no fire service units reached the crash site as there was no radio transmitter rt communication facility between the tower and firefighting vehicles a portable radio transmitter was available for communication between the tower and the aerodrome fire station but was not serviceable on the day of the accidentflight  carried  passengers and  crew members consisting of  cockpit crew and  cabin crew there were  infants aboard the flightthe pilot who controlled the flight was indian national captain cyril fernandez at  years old he joined indian airlines in  as a pilot and was promoted to the position of copilot eventually he became captain of a hawker siddeley hs  in  fernandez obtained a boeing  copilot rating followed by a captain rating in  fernandez became the copilot of an airbus  in  fernandez had a total flying experience of  hours of which  hours were spent on the airbus  to the report captain fernandez was under supervision as he was undergoing the first of  route checks required for qualification to captain during the flight he was seated in the left seatthe pilot who supervised captain fernandez was indian national captain satish gopujkar at  years old he joined indian airlines in  and was employed as a copilot on a hawker siddeley hs  from – later flying the plane as a captain in  he obtained a boeing  copilot rating and later a pilot in command rating in  in  he was promoted as a copilot on an airbus  captain gopujkar had a total flying experience of  hours of which  hours were on the airbus  during the flight he was carrying out the duties of both the copilot and the check pilotbefore flight  captain gopujkar was involved in a taxiing incident in cochin although he was not blamed for the incident during flight  he was seated in the right  people were killed in the crash including captain gopujkar and captain fernandez according to official reports amongst the  injured people at least  had suffered head injuries  suffered lower limb injuries while  sustained thoracic injuries details in the report revealed that most of the dead suffered major trauma during the crash at least  victims were revealed to have suffered shock and burn injuriesthe report then stated that several passengers may have been too injured to move leaving them physically unable to escape from the burning wreckage they may have survived the impact but due to the injuries they suffered during the crash they couldnt escape the report stated that most people seated near the emergency exits and slides survived the crashas most survivors and victims of the crash suffered head and leg injuries the investigative team stated that those injuries might have occurred to the passengers and some of the crew onboard as a result of the inadequate leg room in addition during the crash several seats were thrust forward causing several passengers head to slam into the back of the seat in front of themthe indian ministry of civil aviation ordered a fullscale investigation into the crash the indian aaib and the canadian tsb were involved in the investigation on  february investigators visited the crash site and inspected the wreckage of the aircraft they noted that the front part of the aircraft was destroyed during its impact with the embankment a subsequent fire led to the total destruction of the aircraftinvestigators then inspected the flight controls of flight  viz the rudder the ailerons the trimmable horizontal stabilizer the flaps and slats and several other flight controls however they didnt find any abnormalities on these controls control failure was ruled out as a possible cause of the crash according to investigators they also ruled out terrorism as a cause of the crash as there were no signs of an onboard explosion during the approach and there was no evidence of explosives on boardafter the discovery of the fdr and the cvr investigators decoded and analyzed its contentsinvestigators made an analysis based on both flight recorders as followsflight  was approaching bangalore airport in open descent mode in this mode the aircraft engines are at the idle throttle people would notice this since the engines seem to turn silent and the plane appears to be sinking graduallythe crew of flight  disengaged the autopilot when sighting the runway of bangalore airport they later made contact with bangalore tower at  pm local time the aircraft display indicated that the plane’s altitude had been just under  feet and its approach path was  ft higher than the normal glide pathcaptain fernandez noticed this and requested for a goaround he would climb to  ft do another circle and come back better aligned to the normal glide path the check pilot captain gopujkar then responded to his request do you want a go around or do you want vertical speed captain fernandez chose to proceed with the vertical speed option if the pilots had proceeded with the goaround the emergency that was to follow could have been avertedsince the plane was a little higher than the normal glide path captain fernandez asked for a higher descent rate of  ftmin instead of the normal rate of  ftmin this faster descent increased the aircraft speed to  kmhr — higher than the recommended speed of  kmhr — but it helped the aircraft regain the normal glide path the aircraft was also now in the vertical speed mode — the correct mode for landingcaptain gopujkar then checked the landing checklist after completing the checklist he asked the cabin crew to be seated at their stations realizing that the aircraft had regained its normal glide path captain gopujkar reported at  that he had now selected a  ft rate of descent however instead of choosing the vertical speed knob he accidentally chose the altitude knob so instead of inputting an order for a  ft rate of descent to the airbus  he made an order to put the aircraft on an altitude of  ftthe vertical speed knob and the altitude knob are located next to each other and have a similar design this might have led to the confusionbecause of captain gopujkars action the aircraft went back to the open descent mode causing the throttle to be in the idle position the absence of engine power on the aircraft led to a decrease of the aircrafts speed and the plane began descending more quickly despite the impending disaster the crew of flight  seemed to be unaware of itthe planes radio altimeter then sounded  ft this probably alerted captain gopujkar in some way because he suddenly observed you are descending on idle open descend eh all this time and as the altimeter called out  ft captain gopujkar asked you want flight directors off now captain fernandez confirmed that his flight director had been put off captain gopujkars however hadnt if both the flight directors had been put off at that point the plane would have gone to the speed mode sensing that speed was dropping and enough engine power could have been generated for a possible recovery even at that late stagethe plane continued to hurtle downwards when the plane was only  ft from the ground captain fernandez suddenly realized the gravity of the situation and exclaimed hey were going down captain gopujkar himself stunned now could only respond with oh shit those were his last recorded words captain fernandez then ordered an immediate toga takeoff goaround however this action was too late the aircraft did lift from the ground however it failed to clear a  embankment and crashed investigators stated that if this action had been taken  seconds earlier the disaster could have been avertedthe high court of karnataka reported that the accident was caused by the pilots failing to realize the gravity of the situation and failing to respond by immediately advancing the throttles even after the radio altitude callouts of four hundred three hundred and two hundred feet despite knowing that the plane was in idleopen descent modeindias investigative team concluded that pilot error was the cause of the accident which was supported by airbus industrie however the india commercial pilot association icpa disputed the report claiming that a design flaw on the airbus  was the cause of the crashthe icpa stated that the senior captain of the flight captain gopujkar wouldnt have made the series of mistakes and stated that there was no proof that he made the faulty setting since the flight data recorder didnt record such mistakes the association also believes that the engines went into idle power because of a major system defect even when gopujkar tried to shut his director off it didnt respond they also claimed that the time lag of  seconds for the autothrust controls to act proved to be disastrousat the time the airbus  was relatively new having just been launched in  its main difference from other aircraft was that it used flybywire fbw technology in a conventional aircraft the pilot was in direct contact with the actuator so if the pilot opened the throttle more the actuator immediately gave the pilot more power in the  however the pilot’s command is first directed to an onboard computer — and the actuator responds only when the computer determines that it is okay to do sobefore the crash of flight  an airbus  had been involved in another crash air france flight  official investigations determined that the cause of the crash was pilot error however the pilot blamed the planes flybywire system for the crash this claim caused a major controversy about the airbus  than two years after the crash of flight  the  suffered another fatal accident when air inter flight  crashed in france killing  people the cause was also a cfit like  the investigation of flight  harshly criticized the airbus  cockpit design in response changes were made to the flight control unit panel display the french aviation safety authority issued  recommendations</td>\n",
       "      <td id=\"T_0b172_row1_col5\" class=\"data row1 col5\" >1990-02-14</td>\n",
       "    </tr>\n",
       "    <tr>\n",
       "      <th id=\"T_0b172_level0_row2\" class=\"row_heading level0 row2\" >2</th>\n",
       "      <td id=\"T_0b172_row2_col0\" class=\"data row2 col0\" >3</td>\n",
       "      <td id=\"T_0b172_row2_col1\" class=\"data row2 col1\" >1991 Uttarkashi earthquake</td>\n",
       "      <td id=\"T_0b172_row2_col2\" class=\"data row2 col2\" >20 October</td>\n",
       "      <td id=\"T_0b172_row2_col3\" class=\"data row2 col3\" >1991</td>\n",
       "      <td id=\"T_0b172_row2_col4\" class=\"data row2 col4\" >the  uttarkashi earthquake also known as the garhwal earthquake occurred at  indian standard time  on  october with a moment magnitude of  and a maximum mercalli intensity of ix violent this thrust event was instrumentally recorded and occurred along the main central thrust in the uttarkashi and gharwal regions of the indian state of uttarakhand then still part of uttar pradesh high intensity shaking resulted in the deaths of at least  people and the destruction of thousands of homesthe garhwal division in northern india flanked by the tons river to the west and the alaknanda river to the east is located at the boundary of the indian and eurasian tectonic plates in the region the indian plate is moving northeastward at a rate of  centimeters  in per year the main central thrust is the primary northweststriking structure and dips to the north at –° the fault plane solutions from the parametric catalogs for the  and  events showed lowangle thrust faulting with varying amounts of strikeslip movementsix threeaxis accelerometers that were within  km  mi captured the event including two units that were close to the projection of the fault at the surface analysis of the data recorded by these devices revealed the distribution of slip moment release over time and the location of the maximum slip the mechanism of the event was typical of the thrust system of the himalayas with maximum slip  m  ft  in occurring to the west and southwest of the hypocenter energy release began slowly and built to a crescendo four seconds after the initiation of the rupturescientists from the indian institute of technology kanpur iitk conducted a survey of the affected areas between  october and  november their work revealed that more than  people in  villages were affected by the shock stone masonry homes that usually supported heavy roofs fared badly in areas where high intensity shaking occurred the united states national geophysical data center indicates that  homes were damaged and another  were destroyed while the iitk report shows that up to  houses were damagedthe united states national geophysical data center and the belgian centre for research on the epidemiology of disasters emdat database both list  fatalities for the event with emdat also listing  injuries the usgs preliminary determination of epicenters and the utsu catalog both list  deaths and  injuredjain et al  stated that the shock was generally moderate while further clarifying the intensities that were observed at specific locations ghansyali gongotri and tehri were listed as experiencing intensity vii very strong shaking and bhatwari budhakedar krishanpur mahinanda maneri and uttarkashi were listed as experiencing intensity viii severe shaking in a report that documented the study of strong motion recordings of the event jain  das  clarified that while bhatwari and uttarkashi experienced intensity viii shaking at distances of  km  mi and  km  mi respectively there was a small  km square mile area that experienced a maximum intensity of ix violent</td>\n",
       "      <td id=\"T_0b172_row2_col5\" class=\"data row2 col5\" >1991-10-20</td>\n",
       "    </tr>\n",
       "    <tr>\n",
       "      <th id=\"T_0b172_level0_row3\" class=\"row_heading level0 row3\" >3</th>\n",
       "      <td id=\"T_0b172_row3_col0\" class=\"data row3 col0\" >4</td>\n",
       "      <td id=\"T_0b172_row3_col1\" class=\"data row3 col1\" >1992 India–Pakistan floods</td>\n",
       "      <td id=\"T_0b172_row3_col2\" class=\"data row3 col2\" >7 September</td>\n",
       "      <td id=\"T_0b172_row3_col3\" class=\"data row3 col3\" >1992</td>\n",
       "      <td id=\"T_0b172_row3_col4\" class=\"data row3 col4\" >the  india–pakistan floods was a deadliest flood caused by a five days long heavy monsoon rains and severe weather that occurred on  september  across the northpakistan of azad kashmir northwest frontier province and indian administered state of jammu and kashmir severe floods left more than  fatalities including  deaths in pakistan administered state  in punjab province and  in india administered state with several other missing the floods swept away more than  villages and several people were buried alive due to landslides near mountains punjab that shares its borders with azad kashmir suffered a heavy agriculture loss in its economic historythe floods evacuated  million people from the affected areas initial reports cited between  and  dead with  missingthe floods originated from the three major rivers such as indus river the longest river of the country which flows through pakistan china and india chenab river the  major river of india and pakistan and the jhelum river a river in northern india and eastern pakistan the heavy rainfall in northern mountains made three rivers overflow the jhelum river swept away more than  people in punjab province including refugees along with shelters built of mud on the banks of the river pakistan suffered a heavy loss of  fatalities as well as millions of worth properties while hundreds of people died in indiancontrolled jammu and kashmirafter floods struck pakistan mostly azad kashmir the government of pakistan declared a nationwide emergency the united nations mobilized disaster management team to make necessary arrangements for dispatching disaster relief and to provide medical assistance to the flood victims of pakistan pakistan also established the prime minister relief fund for  a relief account designed to receive international funds as well as provinciallevel relief contributions to combat the disaster government mobilized pakistan army as well as local administration in an effort to recover missing people and to provide emergency services to the victims the world bank a financial organization for government agencies described the efforts of pakistan satisfactory towards its swift recover of damage although hundreds of people were confirmed deadsevere floods left  people dead including  from punjab  more than  million people were affected and  families rendered homeless including refuge huts a report by the pakistani government stated that  villages in north pakistan were washed away  cattle drowned away and  of bridges and roads were completely destroyed it was declared a deadliest flood in the history of pakistan destroying an estimated  billion of property of that time</td>\n",
       "      <td id=\"T_0b172_row3_col5\" class=\"data row3 col5\" >1992-09-07</td>\n",
       "    </tr>\n",
       "    <tr>\n",
       "      <th id=\"T_0b172_level0_row4\" class=\"row_heading level0 row4\" >4</th>\n",
       "      <td id=\"T_0b172_row4_col0\" class=\"data row4 col0\" >5</td>\n",
       "      <td id=\"T_0b172_row4_col1\" class=\"data row4 col1\" >Mahamaham stampede</td>\n",
       "      <td id=\"T_0b172_row4_col2\" class=\"data row4 col2\" >18 February</td>\n",
       "      <td id=\"T_0b172_row4_col3\" class=\"data row4 col3\" >1992</td>\n",
       "      <td id=\"T_0b172_row4_col4\" class=\"data row4 col4\" >mahamaham stampede was a disaster that occurred during the mahamaham festival on  february  around the mahamaham tank located in the town of kumbakonam in the south indian state of tamil nadu an estimated  people were killed in the stampede that left another  injured the festival was attended by the then chief minister of tamil nadu jayalalitha who had a holy dip in the tankthe tank is located in the heart of kumbakonam town it covers an area of  acres and is trapezoidal in shape the tank is surrounded by  small mandapams shrines and has  wells inside the tank the names of the wells carry the name of hindu god shiva or that of rivers of india govinda dikshitar the chieftain of ragunatha nayak of thanjavur constructed the sixteen mandapams and stone steps around this tankmasimaham is an annual event that occurs in the tamil month of masi february–march in the star of magam once in twelve years when the planet guru jupiter enters the sign siṃha leo the kumbh mela festival of south india is celebrated at mahamaham tank  vast crowds gather at kumbakonam to have a dip in the tank along with saints and philosophers all the rivers of india are believed to meet at the tank on this day and a purificatory bath at this tank on this day is considered equal to the combined dips in all the holy rivers of india   festival deities from all the temples in kumbakonam arrive at the tank and at noon all the deities bathe along with the devotees  it is called theerthavari  the purificatory bath is believed to remove sins and after the dip pilgrims offer charitable gifts in the hope of being rewarded in the current life and subsequent lives  the temple cars of major temples in kumbakonam come around the city on the festival night during the mahamaham of  the number of devotees reached  millionon  february  the then chief minister of tamil nadu jayalalitha and her friend sasikala had a holy dip in the tank at around  pm  the proceeds were initiated by the shankaracharya of kanchi mutt jayendra saraswati tens of thousands of pilgrims thronged the event and in the heat of the situation  people were crushed to death when a building collapsed  this resulted in a stampede that resulted in another  getting injured at least  people were reported killed in the rubble and others were apparently crushed in fleeing crowd as reported by the press trust of india   of the killed  were reported to be women three were children and the rest were men some of the newspapers reported the stampede took place soon after the chief minister reached the tank  this is attributed by the fact that the stampede occurred  metres away from the special bathing ghat arranged for the chief minister the whole accident occurred within a span of  minutes with pilgrims rushing up for a holy dip in auspicious time and also for viewing the chief minister as reported by the hindu on  february most newspapers also reported that the western and southern sides were cordoned off for security purposes and people could enter and exit only through the northern and eastern sides walter devaram the inspectorgeneral of police is quoted as saying a concrete superstructure of a building on the northern bank of the bank collapsed under the weight of those standing on it to watch the festival  the final official number of victims stood at  with another  getting injuredthe government of tamil nadu announced a compensation of one lakh  rupees for the deceased which included a sum of  rupees given by the all india anna dravida munnetra kazhagam party that ruled the state that time it was widely criticised by the media that a government announcement was made together with a party announcementon  february after much demands for a judicial enquiry the government of tamil nadu announced a magisterial enquiry with the additional collector heading it on  february the government issued a detailed press note indicating the mahamaham event of  passed off without any mishaps the state government spent nearly  crores  million for developing the local infrastructure of kumbakonam it included  lakhs  million sanctioned for carrying out public health measures and sanitary arrangements   shutter gates were set up at the approaches to the tank and the exits were clearly identified  closed circuit surveillance television was employed for video surveillance and crowd control tamil nadu police employed closed to  security personnel for the estimated  lakh visitors the festivities were spaced out to  days to allow pilgrims to take sacred bath from day one around  railway police personnel were employed for the  feb function  southern railways operated additional trains via kumbakonam in the new broad gauge converted railway lines from villupuram to kumbakonam around  lakh railway travel tickets were sold for the event compared to the  lakh for the  event  in the aftermath felicitation event held on  march in trichy the retired deputy general of police walter davaram was quoted as saying i take moral responsibility for the fiasco during the mahamaham held in  but i must say that these police officials have done a much better job than that during my time he also insisted on documenting the event proceedings that involved meticulous planning and execution of security arrangements doordarshan the national television channel telecast the event live for the first time keeping the eventualities in mind jayalalitha the chief minister during the  festival also stayed away from the function</td>\n",
       "      <td id=\"T_0b172_row4_col5\" class=\"data row4 col5\" >1992-02-18</td>\n",
       "    </tr>\n",
       "  </tbody>\n",
       "</table>\n"
      ],
      "text/plain": [
       "<pandas.io.formats.style.Styler at 0x1e5deae3d60>"
      ]
     },
     "execution_count": 4,
     "metadata": {},
     "output_type": "execute_result"
    }
   ],
   "source": [
    "dataf.head().style.set_properties(**{\"background-color\": \"#99DDCC\",\"color\": \"black\",\"border-color\": \"black\"})\n"
   ]
  },
  {
   "cell_type": "code",
   "execution_count": 5,
   "metadata": {
    "execution": {
     "iopub.execute_input": "2021-11-02T07:58:51.869555Z",
     "iopub.status.busy": "2021-11-02T07:58:51.868487Z",
     "iopub.status.idle": "2021-11-02T07:58:51.882982Z",
     "shell.execute_reply": "2021-11-02T07:58:51.882103Z",
     "shell.execute_reply.started": "2021-11-02T07:58:51.869476Z"
    }
   },
   "outputs": [
    {
     "data": {
      "text/html": [
       "<div>\n",
       "<style scoped>\n",
       "    .dataframe tbody tr th:only-of-type {\n",
       "        vertical-align: middle;\n",
       "    }\n",
       "\n",
       "    .dataframe tbody tr th {\n",
       "        vertical-align: top;\n",
       "    }\n",
       "\n",
       "    .dataframe thead th {\n",
       "        text-align: right;\n",
       "    }\n",
       "</style>\n",
       "<table border=\"1\" class=\"dataframe\">\n",
       "  <thead>\n",
       "    <tr style=\"text-align: right;\">\n",
       "      <th></th>\n",
       "      <th>Unnamed: 0</th>\n",
       "      <th>Title</th>\n",
       "      <th>Duration</th>\n",
       "      <th>Year</th>\n",
       "      <th>Disaster_Info</th>\n",
       "      <th>Date</th>\n",
       "    </tr>\n",
       "  </thead>\n",
       "  <tbody>\n",
       "    <tr>\n",
       "      <th>0</th>\n",
       "      <td>0</td>\n",
       "      <td>1990 Andhra Pradesh cyclone</td>\n",
       "      <td>4 May</td>\n",
       "      <td>1990</td>\n",
       "      <td>the  andhra pradesh cyclone or the  machilipat...</td>\n",
       "      <td>1990-05-04</td>\n",
       "    </tr>\n",
       "    <tr>\n",
       "      <th>1</th>\n",
       "      <td>1</td>\n",
       "      <td>Indian Airlines Flight 605</td>\n",
       "      <td>14 February</td>\n",
       "      <td>1990</td>\n",
       "      <td>indian airlines flight  was a scheduled domest...</td>\n",
       "      <td>1990-02-14</td>\n",
       "    </tr>\n",
       "    <tr>\n",
       "      <th>2</th>\n",
       "      <td>3</td>\n",
       "      <td>1991 Uttarkashi earthquake</td>\n",
       "      <td>20 October</td>\n",
       "      <td>1991</td>\n",
       "      <td>the  uttarkashi earthquake also known as the g...</td>\n",
       "      <td>1991-10-20</td>\n",
       "    </tr>\n",
       "    <tr>\n",
       "      <th>3</th>\n",
       "      <td>4</td>\n",
       "      <td>1992 India–Pakistan floods</td>\n",
       "      <td>7 September</td>\n",
       "      <td>1992</td>\n",
       "      <td>the  india–pakistan floods was a deadliest flo...</td>\n",
       "      <td>1992-09-07</td>\n",
       "    </tr>\n",
       "  </tbody>\n",
       "</table>\n",
       "</div>"
      ],
      "text/plain": [
       "   Unnamed: 0                        Title     Duration  Year  \\\n",
       "0           0  1990 Andhra Pradesh cyclone        4 May  1990   \n",
       "1           1   Indian Airlines Flight 605  14 February  1990   \n",
       "2           3   1991 Uttarkashi earthquake   20 October  1991   \n",
       "3           4   1992 India–Pakistan floods  7 September  1992   \n",
       "\n",
       "                                       Disaster_Info        Date  \n",
       "0  the  andhra pradesh cyclone or the  machilipat...  1990-05-04  \n",
       "1  indian airlines flight  was a scheduled domest...  1990-02-14  \n",
       "2  the  uttarkashi earthquake also known as the g...  1991-10-20  \n",
       "3  the  india–pakistan floods was a deadliest flo...  1992-09-07  "
      ]
     },
     "execution_count": 5,
     "metadata": {},
     "output_type": "execute_result"
    }
   ],
   "source": [
    "dataf.head(4) #print the top-4 rows"
   ]
  },
  {
   "cell_type": "code",
   "execution_count": 6,
   "metadata": {
    "execution": {
     "iopub.execute_input": "2021-11-02T06:11:05.516726Z",
     "iopub.status.busy": "2021-11-02T06:11:05.516412Z",
     "iopub.status.idle": "2021-11-02T06:11:05.533503Z",
     "shell.execute_reply": "2021-11-02T06:11:05.53259Z",
     "shell.execute_reply.started": "2021-11-02T06:11:05.516685Z"
    }
   },
   "outputs": [
    {
     "name": "stdout",
     "output_type": "stream",
     "text": [
      "<class 'pandas.core.frame.DataFrame'>\n",
      "RangeIndex: 207 entries, 0 to 206\n",
      "Data columns (total 6 columns):\n",
      " #   Column         Non-Null Count  Dtype \n",
      "---  ------         --------------  ----- \n",
      " 0   Unnamed: 0     207 non-null    int64 \n",
      " 1   Title          207 non-null    object\n",
      " 2   Duration       207 non-null    object\n",
      " 3   Year           207 non-null    int64 \n",
      " 4   Disaster_Info  207 non-null    object\n",
      " 5   Date           207 non-null    object\n",
      "dtypes: int64(2), object(4)\n",
      "memory usage: 9.8+ KB\n"
     ]
    }
   ],
   "source": [
    "dataf.info() #info about dataset"
   ]
  },
  {
   "cell_type": "code",
   "execution_count": 7,
   "metadata": {
    "execution": {
     "iopub.execute_input": "2021-11-02T06:11:10.211389Z",
     "iopub.status.busy": "2021-11-02T06:11:10.211079Z",
     "iopub.status.idle": "2021-11-02T06:11:10.219615Z",
     "shell.execute_reply": "2021-11-02T06:11:10.218961Z",
     "shell.execute_reply.started": "2021-11-02T06:11:10.211355Z"
    }
   },
   "outputs": [
    {
     "data": {
      "text/plain": [
       "Unnamed: 0       0\n",
       "Title            0\n",
       "Duration         0\n",
       "Year             0\n",
       "Disaster_Info    0\n",
       "Date             0\n",
       "dtype: int64"
      ]
     },
     "execution_count": 7,
     "metadata": {},
     "output_type": "execute_result"
    }
   ],
   "source": [
    "dataf.isna().sum() #check for any null value is presents in the dataset"
   ]
  },
  {
   "cell_type": "code",
   "execution_count": 8,
   "metadata": {
    "execution": {
     "iopub.execute_input": "2021-11-02T06:11:15.437283Z",
     "iopub.status.busy": "2021-11-02T06:11:15.436688Z",
     "iopub.status.idle": "2021-11-02T06:11:15.45074Z",
     "shell.execute_reply": "2021-11-02T06:11:15.449651Z",
     "shell.execute_reply.started": "2021-11-02T06:11:15.437219Z"
    }
   },
   "outputs": [
    {
     "data": {
      "text/plain": [
       "0"
      ]
     },
     "execution_count": 8,
     "metadata": {},
     "output_type": "execute_result"
    }
   ],
   "source": [
    "dataf.duplicated().sum()#check for the duplicates rows"
   ]
  },
  {
   "cell_type": "code",
   "execution_count": 9,
   "metadata": {
    "execution": {
     "iopub.execute_input": "2021-11-02T06:11:46.678076Z",
     "iopub.status.busy": "2021-11-02T06:11:46.677546Z",
     "iopub.status.idle": "2021-11-02T06:11:46.686658Z",
     "shell.execute_reply": "2021-11-02T06:11:46.685782Z",
     "shell.execute_reply.started": "2021-11-02T06:11:46.678018Z"
    }
   },
   "outputs": [
    {
     "data": {
      "text/plain": [
       "Unnamed: 0        int64\n",
       "Title            object\n",
       "Duration         object\n",
       "Year              int64\n",
       "Disaster_Info    object\n",
       "Date             object\n",
       "dtype: object"
      ]
     },
     "execution_count": 9,
     "metadata": {},
     "output_type": "execute_result"
    }
   ],
   "source": [
    "dataf.dtypes  #datatype --> Here is \"Date\" is object type we can convert data object type to datetime datatype but here already separated two coulmns form \"Date\" colmn\n",
    "              #\"Duration\" and \"Year\" those data type object and int so there is not rquired Date column,if required we can convert and do data analysis."
   ]
  },
  {
   "cell_type": "code",
   "execution_count": 10,
   "metadata": {
    "execution": {
     "iopub.execute_input": "2021-11-02T06:12:26.822473Z",
     "iopub.status.busy": "2021-11-02T06:12:26.822156Z",
     "iopub.status.idle": "2021-11-02T06:12:26.829195Z",
     "shell.execute_reply": "2021-11-02T06:12:26.82813Z",
     "shell.execute_reply.started": "2021-11-02T06:12:26.822439Z"
    }
   },
   "outputs": [],
   "source": [
    "dataf = dataf.drop(['Unnamed: 0'],axis = 1) #As we can observe \"Unnamed: 0\"  col not required for data analysis so we can drop this col"
   ]
  },
  {
   "cell_type": "code",
   "execution_count": 11,
   "metadata": {
    "execution": {
     "iopub.execute_input": "2021-11-02T06:12:32.092062Z",
     "iopub.status.busy": "2021-11-02T06:12:32.090698Z",
     "iopub.status.idle": "2021-11-02T06:12:32.10588Z",
     "shell.execute_reply": "2021-11-02T06:12:32.104989Z",
     "shell.execute_reply.started": "2021-11-02T06:12:32.091971Z"
    }
   },
   "outputs": [
    {
     "data": {
      "text/html": [
       "<div>\n",
       "<style scoped>\n",
       "    .dataframe tbody tr th:only-of-type {\n",
       "        vertical-align: middle;\n",
       "    }\n",
       "\n",
       "    .dataframe tbody tr th {\n",
       "        vertical-align: top;\n",
       "    }\n",
       "\n",
       "    .dataframe thead th {\n",
       "        text-align: right;\n",
       "    }\n",
       "</style>\n",
       "<table border=\"1\" class=\"dataframe\">\n",
       "  <thead>\n",
       "    <tr style=\"text-align: right;\">\n",
       "      <th></th>\n",
       "      <th>Title</th>\n",
       "      <th>Duration</th>\n",
       "      <th>Year</th>\n",
       "      <th>Disaster_Info</th>\n",
       "      <th>Date</th>\n",
       "    </tr>\n",
       "  </thead>\n",
       "  <tbody>\n",
       "    <tr>\n",
       "      <th>0</th>\n",
       "      <td>1990 Andhra Pradesh cyclone</td>\n",
       "      <td>4 May</td>\n",
       "      <td>1990</td>\n",
       "      <td>the  andhra pradesh cyclone or the  machilipat...</td>\n",
       "      <td>1990-05-04</td>\n",
       "    </tr>\n",
       "    <tr>\n",
       "      <th>1</th>\n",
       "      <td>Indian Airlines Flight 605</td>\n",
       "      <td>14 February</td>\n",
       "      <td>1990</td>\n",
       "      <td>indian airlines flight  was a scheduled domest...</td>\n",
       "      <td>1990-02-14</td>\n",
       "    </tr>\n",
       "    <tr>\n",
       "      <th>2</th>\n",
       "      <td>1991 Uttarkashi earthquake</td>\n",
       "      <td>20 October</td>\n",
       "      <td>1991</td>\n",
       "      <td>the  uttarkashi earthquake also known as the g...</td>\n",
       "      <td>1991-10-20</td>\n",
       "    </tr>\n",
       "    <tr>\n",
       "      <th>3</th>\n",
       "      <td>1992 India–Pakistan floods</td>\n",
       "      <td>7 September</td>\n",
       "      <td>1992</td>\n",
       "      <td>the  india–pakistan floods was a deadliest flo...</td>\n",
       "      <td>1992-09-07</td>\n",
       "    </tr>\n",
       "  </tbody>\n",
       "</table>\n",
       "</div>"
      ],
      "text/plain": [
       "                         Title     Duration  Year  \\\n",
       "0  1990 Andhra Pradesh cyclone        4 May  1990   \n",
       "1   Indian Airlines Flight 605  14 February  1990   \n",
       "2   1991 Uttarkashi earthquake   20 October  1991   \n",
       "3   1992 India–Pakistan floods  7 September  1992   \n",
       "\n",
       "                                       Disaster_Info        Date  \n",
       "0  the  andhra pradesh cyclone or the  machilipat...  1990-05-04  \n",
       "1  indian airlines flight  was a scheduled domest...  1990-02-14  \n",
       "2  the  uttarkashi earthquake also known as the g...  1991-10-20  \n",
       "3  the  india–pakistan floods was a deadliest flo...  1992-09-07  "
      ]
     },
     "execution_count": 11,
     "metadata": {},
     "output_type": "execute_result"
    }
   ],
   "source": [
    "dataf.head(4)"
   ]
  },
  {
   "cell_type": "markdown",
   "metadata": {},
   "source": [
    "# EDA"
   ]
  },
  {
   "cell_type": "markdown",
   "metadata": {},
   "source": [
    "# Disaster count per year"
   ]
  },
  {
   "cell_type": "code",
   "execution_count": 12,
   "metadata": {
    "execution": {
     "iopub.execute_input": "2021-11-02T06:13:30.367471Z",
     "iopub.status.busy": "2021-11-02T06:13:30.366941Z",
     "iopub.status.idle": "2021-11-02T06:13:30.377505Z",
     "shell.execute_reply": "2021-11-02T06:13:30.376597Z",
     "shell.execute_reply.started": "2021-11-02T06:13:30.36742Z"
    }
   },
   "outputs": [
    {
     "data": {
      "text/plain": [
       "2017    20\n",
       "2016    19\n",
       "2020    19\n",
       "2019    15\n",
       "2015    13\n",
       "2010    13\n",
       "2014    13\n",
       "2021    12\n",
       "2013    11\n",
       "2009    11\n",
       "2011     8\n",
       "2012     6\n",
       "2008     5\n",
       "2018     5\n",
       "2002     4\n",
       "1994     4\n",
       "2005     4\n",
       "2006     3\n",
       "1993     3\n",
       "2007     2\n",
       "2001     2\n",
       "2000     2\n",
       "1995     2\n",
       "1992     2\n",
       "1990     2\n",
       "1991     1\n",
       "2004     1\n",
       "2003     1\n",
       "1999     1\n",
       "1998     1\n",
       "1997     1\n",
       "1996     1\n",
       "Name: Year, dtype: int64"
      ]
     },
     "execution_count": 12,
     "metadata": {},
     "output_type": "execute_result"
    }
   ],
   "source": [
    "dataf['Year'].value_counts() #print  total counts of different years has in the \"Year\" col"
   ]
  },
  {
   "cell_type": "code",
   "execution_count": 13,
   "metadata": {
    "execution": {
     "iopub.execute_input": "2021-11-02T06:14:53.632529Z",
     "iopub.status.busy": "2021-11-02T06:14:53.632242Z",
     "iopub.status.idle": "2021-11-02T06:14:53.645892Z",
     "shell.execute_reply": "2021-11-02T06:14:53.645138Z",
     "shell.execute_reply.started": "2021-11-02T06:14:53.632499Z"
    }
   },
   "outputs": [
    {
     "data": {
      "text/html": [
       "<div>\n",
       "<style scoped>\n",
       "    .dataframe tbody tr th:only-of-type {\n",
       "        vertical-align: middle;\n",
       "    }\n",
       "\n",
       "    .dataframe tbody tr th {\n",
       "        vertical-align: top;\n",
       "    }\n",
       "\n",
       "    .dataframe thead th {\n",
       "        text-align: right;\n",
       "    }\n",
       "</style>\n",
       "<table border=\"1\" class=\"dataframe\">\n",
       "  <thead>\n",
       "    <tr style=\"text-align: right;\">\n",
       "      <th></th>\n",
       "      <th>Title</th>\n",
       "      <th>Duration</th>\n",
       "      <th>Year</th>\n",
       "      <th>Disaster_Info</th>\n",
       "      <th>Date</th>\n",
       "    </tr>\n",
       "  </thead>\n",
       "  <tbody>\n",
       "    <tr>\n",
       "      <th>0</th>\n",
       "      <td>1990 Andhra Pradesh cyclone</td>\n",
       "      <td>4 May</td>\n",
       "      <td>1990</td>\n",
       "      <td>the  andhra pradesh cyclone or the  machilipat...</td>\n",
       "      <td>1990-05-04</td>\n",
       "    </tr>\n",
       "    <tr>\n",
       "      <th>1</th>\n",
       "      <td>Indian Airlines Flight 605</td>\n",
       "      <td>14 February</td>\n",
       "      <td>1990</td>\n",
       "      <td>indian airlines flight  was a scheduled domest...</td>\n",
       "      <td>1990-02-14</td>\n",
       "    </tr>\n",
       "    <tr>\n",
       "      <th>2</th>\n",
       "      <td>1991 Uttarkashi earthquake</td>\n",
       "      <td>20 October</td>\n",
       "      <td>1991</td>\n",
       "      <td>the  uttarkashi earthquake also known as the g...</td>\n",
       "      <td>1991-10-20</td>\n",
       "    </tr>\n",
       "    <tr>\n",
       "      <th>3</th>\n",
       "      <td>1992 India–Pakistan floods</td>\n",
       "      <td>7 September</td>\n",
       "      <td>1992</td>\n",
       "      <td>the  india–pakistan floods was a deadliest flo...</td>\n",
       "      <td>1992-09-07</td>\n",
       "    </tr>\n",
       "    <tr>\n",
       "      <th>4</th>\n",
       "      <td>Mahamaham stampede</td>\n",
       "      <td>18 February</td>\n",
       "      <td>1992</td>\n",
       "      <td>mahamaham stampede was a disaster that occurre...</td>\n",
       "      <td>1992-02-18</td>\n",
       "    </tr>\n",
       "  </tbody>\n",
       "</table>\n",
       "</div>"
      ],
      "text/plain": [
       "                         Title     Duration  Year  \\\n",
       "0  1990 Andhra Pradesh cyclone        4 May  1990   \n",
       "1   Indian Airlines Flight 605  14 February  1990   \n",
       "2   1991 Uttarkashi earthquake   20 October  1991   \n",
       "3   1992 India–Pakistan floods  7 September  1992   \n",
       "4           Mahamaham stampede  18 February  1992   \n",
       "\n",
       "                                       Disaster_Info        Date  \n",
       "0  the  andhra pradesh cyclone or the  machilipat...  1990-05-04  \n",
       "1  indian airlines flight  was a scheduled domest...  1990-02-14  \n",
       "2  the  uttarkashi earthquake also known as the g...  1991-10-20  \n",
       "3  the  india–pakistan floods was a deadliest flo...  1992-09-07  \n",
       "4  mahamaham stampede was a disaster that occurre...  1992-02-18  "
      ]
     },
     "execution_count": 13,
     "metadata": {},
     "output_type": "execute_result"
    }
   ],
   "source": [
    "dataf.head()"
   ]
  },
  {
   "cell_type": "code",
   "execution_count": 14,
   "metadata": {
    "execution": {
     "iopub.execute_input": "2021-11-02T06:50:20.392065Z",
     "iopub.status.busy": "2021-11-02T06:50:20.391253Z",
     "iopub.status.idle": "2021-11-02T06:50:20.403233Z",
     "shell.execute_reply": "2021-11-02T06:50:20.402492Z",
     "shell.execute_reply.started": "2021-11-02T06:50:20.392013Z"
    }
   },
   "outputs": [
    {
     "name": "stdout",
     "output_type": "stream",
     "text": [
      "      Title  Duration  Disaster_Info  Date\n",
      "Year                                      \n",
      "1990      2         2              2     2\n",
      "1991      1         1              1     1\n",
      "1992      2         2              2     2\n",
      "1993      3         3              3     3\n",
      "1994      4         4              4     4\n",
      "1995      2         2              2     2\n",
      "1996      1         1              1     1\n",
      "1997      1         1              1     1\n",
      "1998      1         1              1     1\n",
      "1999      1         1              1     1\n",
      "2000      2         2              2     2\n",
      "2001      2         2              2     2\n",
      "2002      4         4              4     4\n",
      "2003      1         1              1     1\n",
      "2004      1         1              1     1\n",
      "2005      4         4              4     4\n",
      "2006      3         3              3     3\n",
      "2007      2         2              2     2\n",
      "2008      5         5              5     5\n",
      "2009     11        11             11    11\n",
      "2010     13        13             13    13\n",
      "2011      8         8              8     8\n",
      "2012      6         6              6     6\n",
      "2013     11        11             11    11\n",
      "2014     13        13             13    13\n",
      "2015     13        13             13    13\n",
      "2016     19        19             19    19\n",
      "2017     20        20             20    20\n",
      "2018      5         5              5     5\n",
      "2019     15        15             15    15\n",
      "2020     19        19             19    19\n",
      "2021     12        12             12    12\n"
     ]
    }
   ],
   "source": [
    "data_count = dataf.groupby('Year').count() \n",
    "print(data_count)"
   ]
  },
  {
   "cell_type": "code",
   "execution_count": 15,
   "metadata": {
    "execution": {
     "iopub.execute_input": "2021-11-02T07:15:12.617712Z",
     "iopub.status.busy": "2021-11-02T07:15:12.61739Z",
     "iopub.status.idle": "2021-11-02T07:15:12.622903Z",
     "shell.execute_reply": "2021-11-02T07:15:12.622124Z",
     "shell.execute_reply.started": "2021-11-02T07:15:12.617679Z"
    }
   },
   "outputs": [
    {
     "name": "stdout",
     "output_type": "stream",
     "text": [
      "[1990, 1991, 1992, 1993, 1994, 1995, 1996, 1997, 1998, 1999, 2000, 2001, 2002, 2003, 2004, 2005, 2006, 2007, 2008, 2009, 2010, 2011, 2012, 2013, 2014, 2015, 2016, 2017, 2018, 2019, 2020, 2021]\n"
     ]
    }
   ],
   "source": [
    "Year = data_count.index\n",
    "print(list(Year))"
   ]
  },
  {
   "cell_type": "code",
   "execution_count": 16,
   "metadata": {
    "execution": {
     "iopub.execute_input": "2021-11-02T06:34:43.841259Z",
     "iopub.status.busy": "2021-11-02T06:34:43.840463Z",
     "iopub.status.idle": "2021-11-02T06:34:43.846243Z",
     "shell.execute_reply": "2021-11-02T06:34:43.845351Z",
     "shell.execute_reply.started": "2021-11-02T06:34:43.841215Z"
    }
   },
   "outputs": [
    {
     "name": "stdout",
     "output_type": "stream",
     "text": [
      "[2, 1, 2, 3, 4, 2, 1, 1, 1, 1, 2, 2, 4, 1, 1, 4, 3, 2, 5, 11, 13, 8, 6, 11, 13, 13, 19, 20, 5, 15, 19, 12]\n"
     ]
    }
   ],
   "source": [
    "Disaster_count = data_count['Disaster_Info']\n",
    "print(list(Disaster_count))"
   ]
  },
  {
   "cell_type": "code",
   "execution_count": 17,
   "metadata": {
    "execution": {
     "iopub.execute_input": "2021-11-02T06:40:01.989203Z",
     "iopub.status.busy": "2021-11-02T06:40:01.988553Z",
     "iopub.status.idle": "2021-11-02T06:40:02.770297Z",
     "shell.execute_reply": "2021-11-02T06:40:02.769488Z",
     "shell.execute_reply.started": "2021-11-02T06:40:01.989159Z"
    }
   },
   "outputs": [
    {
     "data": {
      "image/png": "[encoded data removed]",
      "text/plain": [
       "<Figure size 1500x400 with 1 Axes>"
      ]
     },
     "metadata": {},
     "output_type": "display_data"
    }
   ],
   "source": [
    "fig = plt.figure(figsize = (15, 4))\n",
    "sns.set_theme()\n",
    "sns.barplot(x=Year,y = Disaster_count)\n",
    "plt.xlabel(\"Year\",fontweight = 'bold')\n",
    "plt.ylabel(\"No. of Disasters\",fontweight = 'bold')\n",
    "plt.title(\"Disasters per year\",fontweight = 'bold')\n",
    "plt.xticks(rotation=60)\n",
    "plt.show()"
   ]
  },
  {
   "cell_type": "code",
   "execution_count": null,
   "metadata": {},
   "outputs": [],
   "source": []
  }
 ],
 "metadata": {
  "kernelspec": {
   "display_name": "Python 3 (ipykernel)",
   "language": "python",
   "name": "python3"
  },
  "language_info": {
   "codemirror_mode": {
    "name": "ipython",
    "version": 3
   },
   "file_extension": ".py",
   "mimetype": "text/x-python",
   "name": "python",
   "nbconvert_exporter": "python",
   "pygments_lexer": "ipython3",
   "version": "3.9.13"
  }
 },
 "nbformat": 4,
 "nbformat_minor": 4
}
